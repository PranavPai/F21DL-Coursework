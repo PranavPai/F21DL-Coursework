{
 "cells": [
  {
   "cell_type": "markdown",
   "id": "b7391c9c",
   "metadata": {},
   "source": [
    "# F21DL CW(P4): Linear Classification and MLP"
   ]
  },
  {
   "cell_type": "markdown",
   "id": "aa124777",
   "metadata": {},
   "source": [
    "## [INCOME DATA SET](https://www.kaggle.com/mastmustu/income?select=test.csv)"
   ]
  },
  {
   "cell_type": "markdown",
   "id": "18dcd2b5",
   "metadata": {},
   "source": [
    "## SETUP"
   ]
  },
  {
   "cell_type": "code",
   "execution_count": 36,
   "id": "108766da",
   "metadata": {},
   "outputs": [],
   "source": [
    "import pandas as pd\n",
    "import numpy as np\n",
    "from numpy import mean, std\n",
    "import seaborn as sns\n",
    "import matplotlib.pyplot as plt\n",
    "import sklearn\n",
    "from sklearn.datasets import make_classification\n",
    "from sklearn.model_selection import RepeatedKFold\n",
    "from sklearn.model_selection import cross_val_score\n",
    "from sklearn.linear_model import LogisticRegression\n",
    "from sklearn.metrics import r2_score, explained_variance_score, classification_report, log_loss,silhouette_score\n",
    "from sklearn.metrics import roc_curve,roc_auc_score\n",
    "from sklearn.metrics import classification_report\n",
    "from sklearn.metrics import recall_score, precision_score, f1_score, confusion_matrix, accuracy_score\n",
    "from sklearn.model_selection import KFold, StratifiedKFold\n",
    "from sklearn.model_selection import RepeatedKFold\n",
    "from sklearn.model_selection import cross_val_score\n",
    "from sklearn.ensemble import RandomForestClassifier\n",
    "from sklearn import svm\n",
    "from sklearn.svm import SVC, LinearSVC\n",
    "from sklearn.neural_network import MLPClassifier"
   ]
  },
  {
   "cell_type": "markdown",
   "id": "37b01e70",
   "metadata": {},
   "source": [
    "## IMPORTING DATA"
   ]
  },
  {
   "cell_type": "code",
   "execution_count": 3,
   "id": "92f4aecf",
   "metadata": {},
   "outputs": [],
   "source": [
    "income = pd.read_csv(\"Income Dataset.csv\")"
   ]
  },
  {
   "cell_type": "markdown",
   "id": "8e54eae1",
   "metadata": {},
   "source": [
    "## DESCRIBING DATA"
   ]
  },
  {
   "cell_type": "markdown",
   "id": "26f1ded6",
   "metadata": {},
   "source": [
    "#### This is a dataset income level of workers of different age/occupation etc."
   ]
  },
  {
   "cell_type": "code",
   "execution_count": 4,
   "id": "c1835655",
   "metadata": {},
   "outputs": [
    {
     "data": {
      "text/html": [
       "<div>\n",
       "<style scoped>\n",
       "    .dataframe tbody tr th:only-of-type {\n",
       "        vertical-align: middle;\n",
       "    }\n",
       "\n",
       "    .dataframe tbody tr th {\n",
       "        vertical-align: top;\n",
       "    }\n",
       "\n",
       "    .dataframe thead th {\n",
       "        text-align: right;\n",
       "    }\n",
       "</style>\n",
       "<table border=\"1\" class=\"dataframe\">\n",
       "  <thead>\n",
       "    <tr style=\"text-align: right;\">\n",
       "      <th></th>\n",
       "      <th>age</th>\n",
       "      <th>workclass</th>\n",
       "      <th>fnlwgt</th>\n",
       "      <th>education</th>\n",
       "      <th>educational-num</th>\n",
       "      <th>marital-status</th>\n",
       "      <th>occupation</th>\n",
       "      <th>relationship</th>\n",
       "      <th>race</th>\n",
       "      <th>gender</th>\n",
       "      <th>capital-gain</th>\n",
       "      <th>capital-loss</th>\n",
       "      <th>hours-per-week</th>\n",
       "      <th>native-country</th>\n",
       "      <th>income_&gt;50K</th>\n",
       "    </tr>\n",
       "  </thead>\n",
       "  <tbody>\n",
       "    <tr>\n",
       "      <th>0</th>\n",
       "      <td>67</td>\n",
       "      <td>Private</td>\n",
       "      <td>366425</td>\n",
       "      <td>Doctorate</td>\n",
       "      <td>16</td>\n",
       "      <td>Divorced</td>\n",
       "      <td>Exec-managerial</td>\n",
       "      <td>Not-in-family</td>\n",
       "      <td>White</td>\n",
       "      <td>Male</td>\n",
       "      <td>99999</td>\n",
       "      <td>0</td>\n",
       "      <td>60</td>\n",
       "      <td>United-States</td>\n",
       "      <td>1</td>\n",
       "    </tr>\n",
       "    <tr>\n",
       "      <th>1</th>\n",
       "      <td>17</td>\n",
       "      <td>Private</td>\n",
       "      <td>244602</td>\n",
       "      <td>12th</td>\n",
       "      <td>8</td>\n",
       "      <td>Never-married</td>\n",
       "      <td>Other-service</td>\n",
       "      <td>Own-child</td>\n",
       "      <td>White</td>\n",
       "      <td>Male</td>\n",
       "      <td>0</td>\n",
       "      <td>0</td>\n",
       "      <td>15</td>\n",
       "      <td>United-States</td>\n",
       "      <td>0</td>\n",
       "    </tr>\n",
       "    <tr>\n",
       "      <th>2</th>\n",
       "      <td>31</td>\n",
       "      <td>Private</td>\n",
       "      <td>174201</td>\n",
       "      <td>Bachelors</td>\n",
       "      <td>13</td>\n",
       "      <td>Married-civ-spouse</td>\n",
       "      <td>Exec-managerial</td>\n",
       "      <td>Husband</td>\n",
       "      <td>White</td>\n",
       "      <td>Male</td>\n",
       "      <td>0</td>\n",
       "      <td>0</td>\n",
       "      <td>40</td>\n",
       "      <td>United-States</td>\n",
       "      <td>1</td>\n",
       "    </tr>\n",
       "    <tr>\n",
       "      <th>3</th>\n",
       "      <td>58</td>\n",
       "      <td>State-gov</td>\n",
       "      <td>110199</td>\n",
       "      <td>7th-8th</td>\n",
       "      <td>4</td>\n",
       "      <td>Married-civ-spouse</td>\n",
       "      <td>Transport-moving</td>\n",
       "      <td>Husband</td>\n",
       "      <td>White</td>\n",
       "      <td>Male</td>\n",
       "      <td>0</td>\n",
       "      <td>0</td>\n",
       "      <td>40</td>\n",
       "      <td>United-States</td>\n",
       "      <td>0</td>\n",
       "    </tr>\n",
       "    <tr>\n",
       "      <th>4</th>\n",
       "      <td>25</td>\n",
       "      <td>State-gov</td>\n",
       "      <td>149248</td>\n",
       "      <td>Some-college</td>\n",
       "      <td>10</td>\n",
       "      <td>Never-married</td>\n",
       "      <td>Other-service</td>\n",
       "      <td>Not-in-family</td>\n",
       "      <td>Black</td>\n",
       "      <td>Male</td>\n",
       "      <td>0</td>\n",
       "      <td>0</td>\n",
       "      <td>40</td>\n",
       "      <td>United-States</td>\n",
       "      <td>0</td>\n",
       "    </tr>\n",
       "    <tr>\n",
       "      <th>...</th>\n",
       "      <td>...</td>\n",
       "      <td>...</td>\n",
       "      <td>...</td>\n",
       "      <td>...</td>\n",
       "      <td>...</td>\n",
       "      <td>...</td>\n",
       "      <td>...</td>\n",
       "      <td>...</td>\n",
       "      <td>...</td>\n",
       "      <td>...</td>\n",
       "      <td>...</td>\n",
       "      <td>...</td>\n",
       "      <td>...</td>\n",
       "      <td>...</td>\n",
       "      <td>...</td>\n",
       "    </tr>\n",
       "    <tr>\n",
       "      <th>43952</th>\n",
       "      <td>52</td>\n",
       "      <td>Private</td>\n",
       "      <td>68982</td>\n",
       "      <td>Bachelors</td>\n",
       "      <td>13</td>\n",
       "      <td>Married-civ-spouse</td>\n",
       "      <td>Exec-managerial</td>\n",
       "      <td>Husband</td>\n",
       "      <td>White</td>\n",
       "      <td>Male</td>\n",
       "      <td>0</td>\n",
       "      <td>0</td>\n",
       "      <td>50</td>\n",
       "      <td>United-States</td>\n",
       "      <td>1</td>\n",
       "    </tr>\n",
       "    <tr>\n",
       "      <th>43953</th>\n",
       "      <td>19</td>\n",
       "      <td>Private</td>\n",
       "      <td>116562</td>\n",
       "      <td>HS-grad</td>\n",
       "      <td>9</td>\n",
       "      <td>Never-married</td>\n",
       "      <td>Other-service</td>\n",
       "      <td>Own-child</td>\n",
       "      <td>White</td>\n",
       "      <td>Female</td>\n",
       "      <td>0</td>\n",
       "      <td>0</td>\n",
       "      <td>40</td>\n",
       "      <td>United-States</td>\n",
       "      <td>0</td>\n",
       "    </tr>\n",
       "    <tr>\n",
       "      <th>43954</th>\n",
       "      <td>30</td>\n",
       "      <td>Private</td>\n",
       "      <td>197947</td>\n",
       "      <td>Some-college</td>\n",
       "      <td>10</td>\n",
       "      <td>Divorced</td>\n",
       "      <td>Sales</td>\n",
       "      <td>Not-in-family</td>\n",
       "      <td>White</td>\n",
       "      <td>Male</td>\n",
       "      <td>0</td>\n",
       "      <td>0</td>\n",
       "      <td>58</td>\n",
       "      <td>United-States</td>\n",
       "      <td>0</td>\n",
       "    </tr>\n",
       "    <tr>\n",
       "      <th>43955</th>\n",
       "      <td>46</td>\n",
       "      <td>Private</td>\n",
       "      <td>97883</td>\n",
       "      <td>Bachelors</td>\n",
       "      <td>13</td>\n",
       "      <td>Never-married</td>\n",
       "      <td>Sales</td>\n",
       "      <td>Not-in-family</td>\n",
       "      <td>White</td>\n",
       "      <td>Female</td>\n",
       "      <td>0</td>\n",
       "      <td>0</td>\n",
       "      <td>35</td>\n",
       "      <td>United-States</td>\n",
       "      <td>0</td>\n",
       "    </tr>\n",
       "    <tr>\n",
       "      <th>43956</th>\n",
       "      <td>30</td>\n",
       "      <td>Private</td>\n",
       "      <td>375827</td>\n",
       "      <td>HS-grad</td>\n",
       "      <td>9</td>\n",
       "      <td>Never-married</td>\n",
       "      <td>Handlers-cleaners</td>\n",
       "      <td>Other-relative</td>\n",
       "      <td>White</td>\n",
       "      <td>Male</td>\n",
       "      <td>0</td>\n",
       "      <td>0</td>\n",
       "      <td>40</td>\n",
       "      <td>United-States</td>\n",
       "      <td>0</td>\n",
       "    </tr>\n",
       "  </tbody>\n",
       "</table>\n",
       "<p>43957 rows × 15 columns</p>\n",
       "</div>"
      ],
      "text/plain": [
       "       age  workclass  fnlwgt     education  educational-num  \\\n",
       "0       67    Private  366425     Doctorate               16   \n",
       "1       17    Private  244602          12th                8   \n",
       "2       31    Private  174201     Bachelors               13   \n",
       "3       58  State-gov  110199       7th-8th                4   \n",
       "4       25  State-gov  149248  Some-college               10   \n",
       "...    ...        ...     ...           ...              ...   \n",
       "43952   52    Private   68982     Bachelors               13   \n",
       "43953   19    Private  116562       HS-grad                9   \n",
       "43954   30    Private  197947  Some-college               10   \n",
       "43955   46    Private   97883     Bachelors               13   \n",
       "43956   30    Private  375827       HS-grad                9   \n",
       "\n",
       "           marital-status         occupation    relationship   race  gender  \\\n",
       "0                Divorced    Exec-managerial   Not-in-family  White    Male   \n",
       "1           Never-married      Other-service       Own-child  White    Male   \n",
       "2      Married-civ-spouse    Exec-managerial         Husband  White    Male   \n",
       "3      Married-civ-spouse   Transport-moving         Husband  White    Male   \n",
       "4           Never-married      Other-service   Not-in-family  Black    Male   \n",
       "...                   ...                ...             ...    ...     ...   \n",
       "43952  Married-civ-spouse    Exec-managerial         Husband  White    Male   \n",
       "43953       Never-married      Other-service       Own-child  White  Female   \n",
       "43954            Divorced              Sales   Not-in-family  White    Male   \n",
       "43955       Never-married              Sales   Not-in-family  White  Female   \n",
       "43956       Never-married  Handlers-cleaners  Other-relative  White    Male   \n",
       "\n",
       "       capital-gain  capital-loss  hours-per-week native-country  income_>50K  \n",
       "0             99999             0              60  United-States            1  \n",
       "1                 0             0              15  United-States            0  \n",
       "2                 0             0              40  United-States            1  \n",
       "3                 0             0              40  United-States            0  \n",
       "4                 0             0              40  United-States            0  \n",
       "...             ...           ...             ...            ...          ...  \n",
       "43952             0             0              50  United-States            1  \n",
       "43953             0             0              40  United-States            0  \n",
       "43954             0             0              58  United-States            0  \n",
       "43955             0             0              35  United-States            0  \n",
       "43956             0             0              40  United-States            0  \n",
       "\n",
       "[43957 rows x 15 columns]"
      ]
     },
     "execution_count": 4,
     "metadata": {},
     "output_type": "execute_result"
    }
   ],
   "source": [
    "income"
   ]
  },
  {
   "cell_type": "code",
   "execution_count": 5,
   "id": "51f341e2",
   "metadata": {},
   "outputs": [
    {
     "data": {
      "text/plain": [
       "age                 int64\n",
       "workclass          object\n",
       "fnlwgt              int64\n",
       "education          object\n",
       "educational-num     int64\n",
       "marital-status     object\n",
       "occupation         object\n",
       "relationship       object\n",
       "race               object\n",
       "gender             object\n",
       "capital-gain        int64\n",
       "capital-loss        int64\n",
       "hours-per-week      int64\n",
       "native-country     object\n",
       "income_>50K         int64\n",
       "dtype: object"
      ]
     },
     "execution_count": 5,
     "metadata": {},
     "output_type": "execute_result"
    }
   ],
   "source": [
    "income.dtypes"
   ]
  },
  {
   "cell_type": "code",
   "execution_count": 6,
   "id": "4b3869e4",
   "metadata": {
    "scrolled": false
   },
   "outputs": [
    {
     "data": {
      "text/html": [
       "<div>\n",
       "<style scoped>\n",
       "    .dataframe tbody tr th:only-of-type {\n",
       "        vertical-align: middle;\n",
       "    }\n",
       "\n",
       "    .dataframe tbody tr th {\n",
       "        vertical-align: top;\n",
       "    }\n",
       "\n",
       "    .dataframe thead th {\n",
       "        text-align: right;\n",
       "    }\n",
       "</style>\n",
       "<table border=\"1\" class=\"dataframe\">\n",
       "  <thead>\n",
       "    <tr style=\"text-align: right;\">\n",
       "      <th></th>\n",
       "      <th>age</th>\n",
       "      <th>fnlwgt</th>\n",
       "      <th>educational-num</th>\n",
       "      <th>capital-gain</th>\n",
       "      <th>capital-loss</th>\n",
       "      <th>hours-per-week</th>\n",
       "      <th>income_&gt;50K</th>\n",
       "    </tr>\n",
       "  </thead>\n",
       "  <tbody>\n",
       "    <tr>\n",
       "      <th>count</th>\n",
       "      <td>43957.000000</td>\n",
       "      <td>4.395700e+04</td>\n",
       "      <td>43957.000000</td>\n",
       "      <td>43957.000000</td>\n",
       "      <td>43957.000000</td>\n",
       "      <td>43957.000000</td>\n",
       "      <td>43957.000000</td>\n",
       "    </tr>\n",
       "    <tr>\n",
       "      <th>mean</th>\n",
       "      <td>38.617149</td>\n",
       "      <td>1.896730e+05</td>\n",
       "      <td>10.074118</td>\n",
       "      <td>1093.559797</td>\n",
       "      <td>88.246491</td>\n",
       "      <td>40.407694</td>\n",
       "      <td>0.239279</td>\n",
       "    </tr>\n",
       "    <tr>\n",
       "      <th>std</th>\n",
       "      <td>13.734401</td>\n",
       "      <td>1.058215e+05</td>\n",
       "      <td>2.575092</td>\n",
       "      <td>7570.536063</td>\n",
       "      <td>404.588410</td>\n",
       "      <td>12.400303</td>\n",
       "      <td>0.426648</td>\n",
       "    </tr>\n",
       "    <tr>\n",
       "      <th>min</th>\n",
       "      <td>17.000000</td>\n",
       "      <td>1.349200e+04</td>\n",
       "      <td>1.000000</td>\n",
       "      <td>0.000000</td>\n",
       "      <td>0.000000</td>\n",
       "      <td>1.000000</td>\n",
       "      <td>0.000000</td>\n",
       "    </tr>\n",
       "    <tr>\n",
       "      <th>25%</th>\n",
       "      <td>28.000000</td>\n",
       "      <td>1.174960e+05</td>\n",
       "      <td>9.000000</td>\n",
       "      <td>0.000000</td>\n",
       "      <td>0.000000</td>\n",
       "      <td>40.000000</td>\n",
       "      <td>0.000000</td>\n",
       "    </tr>\n",
       "    <tr>\n",
       "      <th>50%</th>\n",
       "      <td>37.000000</td>\n",
       "      <td>1.781000e+05</td>\n",
       "      <td>10.000000</td>\n",
       "      <td>0.000000</td>\n",
       "      <td>0.000000</td>\n",
       "      <td>40.000000</td>\n",
       "      <td>0.000000</td>\n",
       "    </tr>\n",
       "    <tr>\n",
       "      <th>75%</th>\n",
       "      <td>48.000000</td>\n",
       "      <td>2.376710e+05</td>\n",
       "      <td>12.000000</td>\n",
       "      <td>0.000000</td>\n",
       "      <td>0.000000</td>\n",
       "      <td>45.000000</td>\n",
       "      <td>0.000000</td>\n",
       "    </tr>\n",
       "    <tr>\n",
       "      <th>max</th>\n",
       "      <td>90.000000</td>\n",
       "      <td>1.490400e+06</td>\n",
       "      <td>16.000000</td>\n",
       "      <td>99999.000000</td>\n",
       "      <td>4356.000000</td>\n",
       "      <td>99.000000</td>\n",
       "      <td>1.000000</td>\n",
       "    </tr>\n",
       "  </tbody>\n",
       "</table>\n",
       "</div>"
      ],
      "text/plain": [
       "                age        fnlwgt  educational-num  capital-gain  \\\n",
       "count  43957.000000  4.395700e+04     43957.000000  43957.000000   \n",
       "mean      38.617149  1.896730e+05        10.074118   1093.559797   \n",
       "std       13.734401  1.058215e+05         2.575092   7570.536063   \n",
       "min       17.000000  1.349200e+04         1.000000      0.000000   \n",
       "25%       28.000000  1.174960e+05         9.000000      0.000000   \n",
       "50%       37.000000  1.781000e+05        10.000000      0.000000   \n",
       "75%       48.000000  2.376710e+05        12.000000      0.000000   \n",
       "max       90.000000  1.490400e+06        16.000000  99999.000000   \n",
       "\n",
       "       capital-loss  hours-per-week   income_>50K  \n",
       "count  43957.000000    43957.000000  43957.000000  \n",
       "mean      88.246491       40.407694      0.239279  \n",
       "std      404.588410       12.400303      0.426648  \n",
       "min        0.000000        1.000000      0.000000  \n",
       "25%        0.000000       40.000000      0.000000  \n",
       "50%        0.000000       40.000000      0.000000  \n",
       "75%        0.000000       45.000000      0.000000  \n",
       "max     4356.000000       99.000000      1.000000  "
      ]
     },
     "execution_count": 6,
     "metadata": {},
     "output_type": "execute_result"
    }
   ],
   "source": [
    "income.describe()"
   ]
  },
  {
   "cell_type": "code",
   "execution_count": 7,
   "id": "c6816af7",
   "metadata": {},
   "outputs": [
    {
     "name": "stdout",
     "output_type": "stream",
     "text": [
      "<class 'pandas.core.frame.DataFrame'>\n",
      "RangeIndex: 43957 entries, 0 to 43956\n",
      "Data columns (total 15 columns):\n",
      " #   Column           Non-Null Count  Dtype \n",
      "---  ------           --------------  ----- \n",
      " 0   age              43957 non-null  int64 \n",
      " 1   workclass        41459 non-null  object\n",
      " 2   fnlwgt           43957 non-null  int64 \n",
      " 3   education        43957 non-null  object\n",
      " 4   educational-num  43957 non-null  int64 \n",
      " 5   marital-status   43957 non-null  object\n",
      " 6   occupation       41451 non-null  object\n",
      " 7   relationship     43957 non-null  object\n",
      " 8   race             43957 non-null  object\n",
      " 9   gender           43957 non-null  object\n",
      " 10  capital-gain     43957 non-null  int64 \n",
      " 11  capital-loss     43957 non-null  int64 \n",
      " 12  hours-per-week   43957 non-null  int64 \n",
      " 13  native-country   43194 non-null  object\n",
      " 14  income_>50K      43957 non-null  int64 \n",
      "dtypes: int64(7), object(8)\n",
      "memory usage: 5.0+ MB\n"
     ]
    }
   ],
   "source": [
    "income.info()"
   ]
  },
  {
   "cell_type": "code",
   "execution_count": 8,
   "id": "e1cb72e9",
   "metadata": {},
   "outputs": [
    {
     "data": {
      "text/plain": [
       "age                   0\n",
       "workclass          2498\n",
       "fnlwgt                0\n",
       "education             0\n",
       "educational-num       0\n",
       "marital-status        0\n",
       "occupation         2506\n",
       "relationship          0\n",
       "race                  0\n",
       "gender                0\n",
       "capital-gain          0\n",
       "capital-loss          0\n",
       "hours-per-week        0\n",
       "native-country      763\n",
       "income_>50K           0\n",
       "dtype: int64"
      ]
     },
     "execution_count": 8,
     "metadata": {},
     "output_type": "execute_result"
    }
   ],
   "source": [
    "income.isna().sum()"
   ]
  },
  {
   "cell_type": "markdown",
   "id": "6c4a36b0",
   "metadata": {},
   "source": [
    "<div class=\"alert alert-block alert-success\">\n",
    "<b>Analysis:</b> From the above table, we can conclude that the data set has missing values.\n",
    "</div>"
   ]
  },
  {
   "cell_type": "code",
   "execution_count": 9,
   "id": "6df66a42",
   "metadata": {},
   "outputs": [
    {
     "data": {
      "image/png": "[encoded data removed]",
      "text/plain": [
       "<Figure size 2000x1500 with 9 Axes>"
      ]
     },
     "metadata": {},
     "output_type": "display_data"
    }
   ],
   "source": [
    "income.hist(bins = 50, figsize=(20,15))\n",
    "plt.show()"
   ]
  },
  {
   "cell_type": "markdown",
   "id": "da14e24e",
   "metadata": {},
   "source": [
    "### Filling Up Missing Values"
   ]
  },
  {
   "cell_type": "code",
   "execution_count": 10,
   "id": "83964da4",
   "metadata": {},
   "outputs": [],
   "source": [
    "income[\"workclass\"].fillna(\"missing\", inplace = True)\n",
    "income[\"occupation\"].fillna(\"missing\", inplace = True)\n",
    "income[\"native-country\"].fillna(\"missing\", inplace = True)"
   ]
  },
  {
   "cell_type": "code",
   "execution_count": 11,
   "id": "29179657",
   "metadata": {},
   "outputs": [
    {
     "data": {
      "text/plain": [
       "age                0\n",
       "workclass          0\n",
       "fnlwgt             0\n",
       "education          0\n",
       "educational-num    0\n",
       "marital-status     0\n",
       "occupation         0\n",
       "relationship       0\n",
       "race               0\n",
       "gender             0\n",
       "capital-gain       0\n",
       "capital-loss       0\n",
       "hours-per-week     0\n",
       "native-country     0\n",
       "income_>50K        0\n",
       "dtype: int64"
      ]
     },
     "execution_count": 11,
     "metadata": {},
     "output_type": "execute_result"
    }
   ],
   "source": [
    "income.isna().sum()"
   ]
  },
  {
   "cell_type": "markdown",
   "id": "38b4d80b",
   "metadata": {},
   "source": [
    "<div class=\"alert alert-block alert-success\">\n",
    "<b>Analysis:</b> No missing values</div>"
   ]
  },
  {
   "cell_type": "markdown",
   "id": "a23ea59b",
   "metadata": {},
   "source": [
    "## VISUALIZING DATA"
   ]
  },
  {
   "cell_type": "code",
   "execution_count": 12,
   "id": "9aa92cd4",
   "metadata": {},
   "outputs": [
    {
     "data": {
      "text/plain": [
       "<AxesSubplot:xlabel='age', ylabel='hours-per-week'>"
      ]
     },
     "execution_count": 12,
     "metadata": {},
     "output_type": "execute_result"
    }
   ],
   "source": [
    "income.plot(kind=\"scatter\", x=\"age\", y=\"hours-per-week\")\n"
   ]
  },
  {
   "cell_type": "markdown",
   "id": "a5589f8d",
   "metadata": {},
   "source": [
    "<div class=\"alert alert-block alert-success\">\n",
    "<b>Analysis:</b> 1 worker at age 90 works 100 hours a week</div>"
   ]
  },
  {
   "cell_type": "code",
   "execution_count": 13,
   "id": "b57cd4e1",
   "metadata": {},
   "outputs": [],
   "source": [
    "#correlation of attirbutes\n",
    "corr_matrix = income.corr()"
   ]
  },
  {
   "cell_type": "code",
   "execution_count": 14,
   "id": "86d0fc13",
   "metadata": {},
   "outputs": [
    {
     "data": {
      "text/plain": [
       "income_>50K        1.000000\n",
       "educational-num    0.334035\n",
       "age                0.230988\n",
       "hours-per-week     0.227918\n",
       "capital-gain       0.223325\n",
       "capital-loss       0.145250\n",
       "fnlwgt            -0.006852\n",
       "Name: income_>50K, dtype: float64"
      ]
     },
     "execution_count": 14,
     "metadata": {},
     "output_type": "execute_result"
    }
   ],
   "source": [
    "corr_matrix[\"income_>50K\"].sort_values(ascending = False)"
   ]
  },
  {
   "cell_type": "code",
   "execution_count": 15,
   "id": "231cc143",
   "metadata": {
    "scrolled": true
   },
   "outputs": [],
   "source": [
    "ax = sns.heatmap(corr_matrix)\n",
    "#Heatmap showing the correlation of all attributes"
   ]
  },
  {
   "cell_type": "markdown",
   "id": "483e6e1f",
   "metadata": {},
   "source": [
    "<div class=\"alert alert-block alert-success\">\n",
    "<b>Analysis:</b> Income_>50 has a high correlation with educational-num</div>"
   ]
  },
  {
   "cell_type": "code",
   "execution_count": 16,
   "id": "8e3e1fd6",
   "metadata": {},
   "outputs": [],
   "source": [
    "from pandas.plotting import scatter_matrix\n",
    "attributes = [\"age\",\"capital-loss\",\"capital-gain\", \"hours-per-week\"]\n",
    "scatter_matrix(income[attributes], figsize = (12,8));"
   ]
  },
  {
   "cell_type": "code",
   "execution_count": 17,
   "id": "dfea4eef",
   "metadata": {
    "scrolled": false
   },
   "outputs": [],
   "source": [
    "income.plot.hist(figsize = (10,30),bins = 20, subplots = True);"
   ]
  },
  {
   "cell_type": "markdown",
   "id": "41fca248",
   "metadata": {},
   "source": [
    "<div class=\"alert alert-block alert-success\">\n",
    "<b>Analysis:</b> Final Weight shows a normal distribution frequency\n",
    "</div>"
   ]
  },
  {
   "cell_type": "markdown",
   "id": "a420cfed",
   "metadata": {},
   "source": [
    "# F21DL CW1(P1): MACHINE LEARNING"
   ]
  },
  {
   "cell_type": "markdown",
   "id": "0fef4cad",
   "metadata": {},
   "source": [
    "## Dataset 1 (Taking all attributes in the parent dataset as features)\n",
    "### Setting up the data \n",
    "##### We are taking class as income_>50\n"
   ]
  },
  {
   "cell_type": "code",
   "execution_count": 18,
   "id": "3f3f4b4f",
   "metadata": {},
   "outputs": [
    {
     "data": {
      "text/html": [
       "<div>\n",
       "<style scoped>\n",
       "    .dataframe tbody tr th:only-of-type {\n",
       "        vertical-align: middle;\n",
       "    }\n",
       "\n",
       "    .dataframe tbody tr th {\n",
       "        vertical-align: top;\n",
       "    }\n",
       "\n",
       "    .dataframe thead th {\n",
       "        text-align: right;\n",
       "    }\n",
       "</style>\n",
       "<table border=\"1\" class=\"dataframe\">\n",
       "  <thead>\n",
       "    <tr style=\"text-align: right;\">\n",
       "      <th></th>\n",
       "      <th>age</th>\n",
       "      <th>workclass</th>\n",
       "      <th>fnlwgt</th>\n",
       "      <th>education</th>\n",
       "      <th>educational-num</th>\n",
       "      <th>marital-status</th>\n",
       "      <th>occupation</th>\n",
       "      <th>relationship</th>\n",
       "      <th>race</th>\n",
       "      <th>gender</th>\n",
       "      <th>capital-gain</th>\n",
       "      <th>capital-loss</th>\n",
       "      <th>hours-per-week</th>\n",
       "      <th>native-country</th>\n",
       "      <th>income_&gt;50K</th>\n",
       "    </tr>\n",
       "  </thead>\n",
       "  <tbody>\n",
       "    <tr>\n",
       "      <th>0</th>\n",
       "      <td>67</td>\n",
       "      <td>Private</td>\n",
       "      <td>366425</td>\n",
       "      <td>Doctorate</td>\n",
       "      <td>16</td>\n",
       "      <td>Divorced</td>\n",
       "      <td>Exec-managerial</td>\n",
       "      <td>Not-in-family</td>\n",
       "      <td>White</td>\n",
       "      <td>Male</td>\n",
       "      <td>99999</td>\n",
       "      <td>0</td>\n",
       "      <td>60</td>\n",
       "      <td>United-States</td>\n",
       "      <td>1</td>\n",
       "    </tr>\n",
       "    <tr>\n",
       "      <th>1</th>\n",
       "      <td>17</td>\n",
       "      <td>Private</td>\n",
       "      <td>244602</td>\n",
       "      <td>12th</td>\n",
       "      <td>8</td>\n",
       "      <td>Never-married</td>\n",
       "      <td>Other-service</td>\n",
       "      <td>Own-child</td>\n",
       "      <td>White</td>\n",
       "      <td>Male</td>\n",
       "      <td>0</td>\n",
       "      <td>0</td>\n",
       "      <td>15</td>\n",
       "      <td>United-States</td>\n",
       "      <td>0</td>\n",
       "    </tr>\n",
       "    <tr>\n",
       "      <th>2</th>\n",
       "      <td>31</td>\n",
       "      <td>Private</td>\n",
       "      <td>174201</td>\n",
       "      <td>Bachelors</td>\n",
       "      <td>13</td>\n",
       "      <td>Married-civ-spouse</td>\n",
       "      <td>Exec-managerial</td>\n",
       "      <td>Husband</td>\n",
       "      <td>White</td>\n",
       "      <td>Male</td>\n",
       "      <td>0</td>\n",
       "      <td>0</td>\n",
       "      <td>40</td>\n",
       "      <td>United-States</td>\n",
       "      <td>1</td>\n",
       "    </tr>\n",
       "    <tr>\n",
       "      <th>3</th>\n",
       "      <td>58</td>\n",
       "      <td>State-gov</td>\n",
       "      <td>110199</td>\n",
       "      <td>7th-8th</td>\n",
       "      <td>4</td>\n",
       "      <td>Married-civ-spouse</td>\n",
       "      <td>Transport-moving</td>\n",
       "      <td>Husband</td>\n",
       "      <td>White</td>\n",
       "      <td>Male</td>\n",
       "      <td>0</td>\n",
       "      <td>0</td>\n",
       "      <td>40</td>\n",
       "      <td>United-States</td>\n",
       "      <td>0</td>\n",
       "    </tr>\n",
       "    <tr>\n",
       "      <th>4</th>\n",
       "      <td>25</td>\n",
       "      <td>State-gov</td>\n",
       "      <td>149248</td>\n",
       "      <td>Some-college</td>\n",
       "      <td>10</td>\n",
       "      <td>Never-married</td>\n",
       "      <td>Other-service</td>\n",
       "      <td>Not-in-family</td>\n",
       "      <td>Black</td>\n",
       "      <td>Male</td>\n",
       "      <td>0</td>\n",
       "      <td>0</td>\n",
       "      <td>40</td>\n",
       "      <td>United-States</td>\n",
       "      <td>0</td>\n",
       "    </tr>\n",
       "  </tbody>\n",
       "</table>\n",
       "</div>"
      ],
      "text/plain": [
       "   age  workclass  fnlwgt     education  educational-num      marital-status  \\\n",
       "0   67    Private  366425     Doctorate               16            Divorced   \n",
       "1   17    Private  244602          12th                8       Never-married   \n",
       "2   31    Private  174201     Bachelors               13  Married-civ-spouse   \n",
       "3   58  State-gov  110199       7th-8th                4  Married-civ-spouse   \n",
       "4   25  State-gov  149248  Some-college               10       Never-married   \n",
       "\n",
       "         occupation   relationship   race gender  capital-gain  capital-loss  \\\n",
       "0   Exec-managerial  Not-in-family  White   Male         99999             0   \n",
       "1     Other-service      Own-child  White   Male             0             0   \n",
       "2   Exec-managerial        Husband  White   Male             0             0   \n",
       "3  Transport-moving        Husband  White   Male             0             0   \n",
       "4     Other-service  Not-in-family  Black   Male             0             0   \n",
       "\n",
       "   hours-per-week native-country  income_>50K  \n",
       "0              60  United-States            1  \n",
       "1              15  United-States            0  \n",
       "2              40  United-States            1  \n",
       "3              40  United-States            0  \n",
       "4              40  United-States            0  "
      ]
     },
     "execution_count": 18,
     "metadata": {},
     "output_type": "execute_result"
    }
   ],
   "source": [
    "income.head()"
   ]
  },
  {
   "cell_type": "code",
   "execution_count": 19,
   "id": "3180108e",
   "metadata": {
    "scrolled": true
   },
   "outputs": [
    {
     "data": {
      "text/html": [
       "<div>\n",
       "<style scoped>\n",
       "    .dataframe tbody tr th:only-of-type {\n",
       "        vertical-align: middle;\n",
       "    }\n",
       "\n",
       "    .dataframe tbody tr th {\n",
       "        vertical-align: top;\n",
       "    }\n",
       "\n",
       "    .dataframe thead th {\n",
       "        text-align: right;\n",
       "    }\n",
       "</style>\n",
       "<table border=\"1\" class=\"dataframe\">\n",
       "  <thead>\n",
       "    <tr style=\"text-align: right;\">\n",
       "      <th></th>\n",
       "      <th>age</th>\n",
       "      <th>workclass</th>\n",
       "      <th>fnlwgt</th>\n",
       "      <th>education</th>\n",
       "      <th>educational-num</th>\n",
       "      <th>marital-status</th>\n",
       "      <th>occupation</th>\n",
       "      <th>relationship</th>\n",
       "      <th>race</th>\n",
       "      <th>gender</th>\n",
       "      <th>capital-gain</th>\n",
       "      <th>capital-loss</th>\n",
       "      <th>hours-per-week</th>\n",
       "      <th>native-country</th>\n",
       "    </tr>\n",
       "  </thead>\n",
       "  <tbody>\n",
       "    <tr>\n",
       "      <th>0</th>\n",
       "      <td>67</td>\n",
       "      <td>Private</td>\n",
       "      <td>366425</td>\n",
       "      <td>Doctorate</td>\n",
       "      <td>16</td>\n",
       "      <td>Divorced</td>\n",
       "      <td>Exec-managerial</td>\n",
       "      <td>Not-in-family</td>\n",
       "      <td>White</td>\n",
       "      <td>Male</td>\n",
       "      <td>99999</td>\n",
       "      <td>0</td>\n",
       "      <td>60</td>\n",
       "      <td>United-States</td>\n",
       "    </tr>\n",
       "    <tr>\n",
       "      <th>1</th>\n",
       "      <td>17</td>\n",
       "      <td>Private</td>\n",
       "      <td>244602</td>\n",
       "      <td>12th</td>\n",
       "      <td>8</td>\n",
       "      <td>Never-married</td>\n",
       "      <td>Other-service</td>\n",
       "      <td>Own-child</td>\n",
       "      <td>White</td>\n",
       "      <td>Male</td>\n",
       "      <td>0</td>\n",
       "      <td>0</td>\n",
       "      <td>15</td>\n",
       "      <td>United-States</td>\n",
       "    </tr>\n",
       "    <tr>\n",
       "      <th>2</th>\n",
       "      <td>31</td>\n",
       "      <td>Private</td>\n",
       "      <td>174201</td>\n",
       "      <td>Bachelors</td>\n",
       "      <td>13</td>\n",
       "      <td>Married-civ-spouse</td>\n",
       "      <td>Exec-managerial</td>\n",
       "      <td>Husband</td>\n",
       "      <td>White</td>\n",
       "      <td>Male</td>\n",
       "      <td>0</td>\n",
       "      <td>0</td>\n",
       "      <td>40</td>\n",
       "      <td>United-States</td>\n",
       "    </tr>\n",
       "    <tr>\n",
       "      <th>3</th>\n",
       "      <td>58</td>\n",
       "      <td>State-gov</td>\n",
       "      <td>110199</td>\n",
       "      <td>7th-8th</td>\n",
       "      <td>4</td>\n",
       "      <td>Married-civ-spouse</td>\n",
       "      <td>Transport-moving</td>\n",
       "      <td>Husband</td>\n",
       "      <td>White</td>\n",
       "      <td>Male</td>\n",
       "      <td>0</td>\n",
       "      <td>0</td>\n",
       "      <td>40</td>\n",
       "      <td>United-States</td>\n",
       "    </tr>\n",
       "    <tr>\n",
       "      <th>4</th>\n",
       "      <td>25</td>\n",
       "      <td>State-gov</td>\n",
       "      <td>149248</td>\n",
       "      <td>Some-college</td>\n",
       "      <td>10</td>\n",
       "      <td>Never-married</td>\n",
       "      <td>Other-service</td>\n",
       "      <td>Not-in-family</td>\n",
       "      <td>Black</td>\n",
       "      <td>Male</td>\n",
       "      <td>0</td>\n",
       "      <td>0</td>\n",
       "      <td>40</td>\n",
       "      <td>United-States</td>\n",
       "    </tr>\n",
       "  </tbody>\n",
       "</table>\n",
       "</div>"
      ],
      "text/plain": [
       "   age  workclass  fnlwgt     education  educational-num      marital-status  \\\n",
       "0   67    Private  366425     Doctorate               16            Divorced   \n",
       "1   17    Private  244602          12th                8       Never-married   \n",
       "2   31    Private  174201     Bachelors               13  Married-civ-spouse   \n",
       "3   58  State-gov  110199       7th-8th                4  Married-civ-spouse   \n",
       "4   25  State-gov  149248  Some-college               10       Never-married   \n",
       "\n",
       "         occupation   relationship   race gender  capital-gain  capital-loss  \\\n",
       "0   Exec-managerial  Not-in-family  White   Male         99999             0   \n",
       "1     Other-service      Own-child  White   Male             0             0   \n",
       "2   Exec-managerial        Husband  White   Male             0             0   \n",
       "3  Transport-moving        Husband  White   Male             0             0   \n",
       "4     Other-service  Not-in-family  Black   Male             0             0   \n",
       "\n",
       "   hours-per-week native-country  \n",
       "0              60  United-States  \n",
       "1              15  United-States  \n",
       "2              40  United-States  \n",
       "3              40  United-States  \n",
       "4              40  United-States  "
      ]
     },
     "execution_count": 19,
     "metadata": {},
     "output_type": "execute_result"
    }
   ],
   "source": [
    "#Removing target attribute(income_>50K) from the dataset\n",
    "X = income.drop('income_>50K', axis = 1)\n",
    "X.head()"
   ]
  },
  {
   "cell_type": "code",
   "execution_count": 20,
   "id": "f7d5b724",
   "metadata": {},
   "outputs": [
    {
     "data": {
      "text/plain": [
       "0    1\n",
       "1    0\n",
       "2    1\n",
       "3    0\n",
       "4    0\n",
       "Name: income_>50K, dtype: int64"
      ]
     },
     "execution_count": 20,
     "metadata": {},
     "output_type": "execute_result"
    }
   ],
   "source": [
    "#Creating a set with only the target attribute\n",
    "y = income['income_>50K']\n",
    "y.head()"
   ]
  },
  {
   "cell_type": "code",
   "execution_count": 21,
   "id": "edea8d69",
   "metadata": {
    "scrolled": true
   },
   "outputs": [
    {
     "data": {
      "text/plain": [
       "((35165, 14), (8792, 14), (35165,), (8792,))"
      ]
     },
     "execution_count": 21,
     "metadata": {},
     "output_type": "execute_result"
    }
   ],
   "source": [
    "# Splitting data into target and training set\n",
    "from sklearn.model_selection import train_test_split\n",
    "X_train, X_test, y_train, y_test = train_test_split(X,y,test_size = 0.2) #20% of the whole datset is the test size\n",
    "\n",
    "X_train.shape, X_test.shape, y_train.shape, y_test.shape"
   ]
  },
  {
   "cell_type": "code",
   "execution_count": 22,
   "id": "e738da2a",
   "metadata": {},
   "outputs": [
    {
     "data": {
      "text/html": [
       "<div>\n",
       "<style scoped>\n",
       "    .dataframe tbody tr th:only-of-type {\n",
       "        vertical-align: middle;\n",
       "    }\n",
       "\n",
       "    .dataframe tbody tr th {\n",
       "        vertical-align: top;\n",
       "    }\n",
       "\n",
       "    .dataframe thead th {\n",
       "        text-align: right;\n",
       "    }\n",
       "</style>\n",
       "<table border=\"1\" class=\"dataframe\">\n",
       "  <thead>\n",
       "    <tr style=\"text-align: right;\">\n",
       "      <th></th>\n",
       "      <th>age</th>\n",
       "      <th>workclass</th>\n",
       "      <th>fnlwgt</th>\n",
       "      <th>education</th>\n",
       "      <th>educational-num</th>\n",
       "      <th>marital-status</th>\n",
       "      <th>occupation</th>\n",
       "      <th>relationship</th>\n",
       "      <th>race</th>\n",
       "      <th>gender</th>\n",
       "      <th>capital-gain</th>\n",
       "      <th>capital-loss</th>\n",
       "      <th>hours-per-week</th>\n",
       "      <th>native-country</th>\n",
       "    </tr>\n",
       "  </thead>\n",
       "  <tbody>\n",
       "    <tr>\n",
       "      <th>11806</th>\n",
       "      <td>50</td>\n",
       "      <td>Private</td>\n",
       "      <td>195298</td>\n",
       "      <td>Some-college</td>\n",
       "      <td>10</td>\n",
       "      <td>Married-civ-spouse</td>\n",
       "      <td>Exec-managerial</td>\n",
       "      <td>Husband</td>\n",
       "      <td>White</td>\n",
       "      <td>Male</td>\n",
       "      <td>0</td>\n",
       "      <td>0</td>\n",
       "      <td>50</td>\n",
       "      <td>United-States</td>\n",
       "    </tr>\n",
       "    <tr>\n",
       "      <th>21795</th>\n",
       "      <td>21</td>\n",
       "      <td>Private</td>\n",
       "      <td>190227</td>\n",
       "      <td>Some-college</td>\n",
       "      <td>10</td>\n",
       "      <td>Never-married</td>\n",
       "      <td>Adm-clerical</td>\n",
       "      <td>Own-child</td>\n",
       "      <td>White</td>\n",
       "      <td>Male</td>\n",
       "      <td>0</td>\n",
       "      <td>0</td>\n",
       "      <td>40</td>\n",
       "      <td>United-States</td>\n",
       "    </tr>\n",
       "    <tr>\n",
       "      <th>22227</th>\n",
       "      <td>30</td>\n",
       "      <td>Private</td>\n",
       "      <td>72630</td>\n",
       "      <td>Bachelors</td>\n",
       "      <td>13</td>\n",
       "      <td>Never-married</td>\n",
       "      <td>Prof-specialty</td>\n",
       "      <td>Not-in-family</td>\n",
       "      <td>White</td>\n",
       "      <td>Male</td>\n",
       "      <td>0</td>\n",
       "      <td>0</td>\n",
       "      <td>50</td>\n",
       "      <td>United-States</td>\n",
       "    </tr>\n",
       "    <tr>\n",
       "      <th>4007</th>\n",
       "      <td>43</td>\n",
       "      <td>Federal-gov</td>\n",
       "      <td>211450</td>\n",
       "      <td>HS-grad</td>\n",
       "      <td>9</td>\n",
       "      <td>Never-married</td>\n",
       "      <td>Adm-clerical</td>\n",
       "      <td>Own-child</td>\n",
       "      <td>White</td>\n",
       "      <td>Male</td>\n",
       "      <td>0</td>\n",
       "      <td>0</td>\n",
       "      <td>40</td>\n",
       "      <td>United-States</td>\n",
       "    </tr>\n",
       "    <tr>\n",
       "      <th>13050</th>\n",
       "      <td>54</td>\n",
       "      <td>Private</td>\n",
       "      <td>182314</td>\n",
       "      <td>Doctorate</td>\n",
       "      <td>16</td>\n",
       "      <td>Married-civ-spouse</td>\n",
       "      <td>Exec-managerial</td>\n",
       "      <td>Husband</td>\n",
       "      <td>White</td>\n",
       "      <td>Male</td>\n",
       "      <td>0</td>\n",
       "      <td>1977</td>\n",
       "      <td>50</td>\n",
       "      <td>United-States</td>\n",
       "    </tr>\n",
       "  </tbody>\n",
       "</table>\n",
       "</div>"
      ],
      "text/plain": [
       "       age    workclass  fnlwgt     education  educational-num  \\\n",
       "11806   50      Private  195298  Some-college               10   \n",
       "21795   21      Private  190227  Some-college               10   \n",
       "22227   30      Private   72630     Bachelors               13   \n",
       "4007    43  Federal-gov  211450       HS-grad                9   \n",
       "13050   54      Private  182314     Doctorate               16   \n",
       "\n",
       "           marital-status       occupation   relationship   race gender  \\\n",
       "11806  Married-civ-spouse  Exec-managerial        Husband  White   Male   \n",
       "21795       Never-married     Adm-clerical      Own-child  White   Male   \n",
       "22227       Never-married   Prof-specialty  Not-in-family  White   Male   \n",
       "4007        Never-married     Adm-clerical      Own-child  White   Male   \n",
       "13050  Married-civ-spouse  Exec-managerial        Husband  White   Male   \n",
       "\n",
       "       capital-gain  capital-loss  hours-per-week native-country  \n",
       "11806             0             0              50  United-States  \n",
       "21795             0             0              40  United-States  \n",
       "22227             0             0              50  United-States  \n",
       "4007              0             0              40  United-States  \n",
       "13050             0          1977              50  United-States  "
      ]
     },
     "execution_count": 22,
     "metadata": {},
     "output_type": "execute_result"
    }
   ],
   "source": [
    "X_test.head()"
   ]
  },
  {
   "cell_type": "code",
   "execution_count": 23,
   "id": "95576fe1",
   "metadata": {},
   "outputs": [
    {
     "data": {
      "text/plain": [
       "11806    1\n",
       "21795    0\n",
       "22227    0\n",
       "4007     0\n",
       "13050    1\n",
       "Name: income_>50K, dtype: int64"
      ]
     },
     "execution_count": 23,
     "metadata": {},
     "output_type": "execute_result"
    }
   ],
   "source": [
    "y_test.head()"
   ]
  },
  {
   "cell_type": "markdown",
   "id": "d03eb397",
   "metadata": {},
   "source": [
    "### Converting categorical values to numerical values"
   ]
  },
  {
   "cell_type": "code",
   "execution_count": 24,
   "id": "e9f55c89",
   "metadata": {},
   "outputs": [
    {
     "data": {
      "text/html": [
       "<div>\n",
       "<style scoped>\n",
       "    .dataframe tbody tr th:only-of-type {\n",
       "        vertical-align: middle;\n",
       "    }\n",
       "\n",
       "    .dataframe tbody tr th {\n",
       "        vertical-align: top;\n",
       "    }\n",
       "\n",
       "    .dataframe thead th {\n",
       "        text-align: right;\n",
       "    }\n",
       "</style>\n",
       "<table border=\"1\" class=\"dataframe\">\n",
       "  <thead>\n",
       "    <tr style=\"text-align: right;\">\n",
       "      <th></th>\n",
       "      <th>age</th>\n",
       "      <th>educational-num</th>\n",
       "      <th>capital-gain</th>\n",
       "      <th>capital-loss</th>\n",
       "      <th>fnlwgt</th>\n",
       "      <th>hours-per-week</th>\n",
       "      <th>workclass_Federal-gov</th>\n",
       "      <th>workclass_Local-gov</th>\n",
       "      <th>workclass_Never-worked</th>\n",
       "      <th>workclass_Private</th>\n",
       "      <th>...</th>\n",
       "      <th>native-country_Puerto-Rico</th>\n",
       "      <th>native-country_Scotland</th>\n",
       "      <th>native-country_South</th>\n",
       "      <th>native-country_Taiwan</th>\n",
       "      <th>native-country_Thailand</th>\n",
       "      <th>native-country_Trinadad&amp;Tobago</th>\n",
       "      <th>native-country_United-States</th>\n",
       "      <th>native-country_Vietnam</th>\n",
       "      <th>native-country_Yugoslavia</th>\n",
       "      <th>native-country_missing</th>\n",
       "    </tr>\n",
       "  </thead>\n",
       "  <tbody>\n",
       "    <tr>\n",
       "      <th>0</th>\n",
       "      <td>67</td>\n",
       "      <td>16</td>\n",
       "      <td>99999</td>\n",
       "      <td>0</td>\n",
       "      <td>366425</td>\n",
       "      <td>60</td>\n",
       "      <td>0</td>\n",
       "      <td>0</td>\n",
       "      <td>0</td>\n",
       "      <td>1</td>\n",
       "      <td>...</td>\n",
       "      <td>0</td>\n",
       "      <td>0</td>\n",
       "      <td>0</td>\n",
       "      <td>0</td>\n",
       "      <td>0</td>\n",
       "      <td>0</td>\n",
       "      <td>1</td>\n",
       "      <td>0</td>\n",
       "      <td>0</td>\n",
       "      <td>0</td>\n",
       "    </tr>\n",
       "    <tr>\n",
       "      <th>1</th>\n",
       "      <td>17</td>\n",
       "      <td>8</td>\n",
       "      <td>0</td>\n",
       "      <td>0</td>\n",
       "      <td>244602</td>\n",
       "      <td>15</td>\n",
       "      <td>0</td>\n",
       "      <td>0</td>\n",
       "      <td>0</td>\n",
       "      <td>1</td>\n",
       "      <td>...</td>\n",
       "      <td>0</td>\n",
       "      <td>0</td>\n",
       "      <td>0</td>\n",
       "      <td>0</td>\n",
       "      <td>0</td>\n",
       "      <td>0</td>\n",
       "      <td>1</td>\n",
       "      <td>0</td>\n",
       "      <td>0</td>\n",
       "      <td>0</td>\n",
       "    </tr>\n",
       "    <tr>\n",
       "      <th>2</th>\n",
       "      <td>31</td>\n",
       "      <td>13</td>\n",
       "      <td>0</td>\n",
       "      <td>0</td>\n",
       "      <td>174201</td>\n",
       "      <td>40</td>\n",
       "      <td>0</td>\n",
       "      <td>0</td>\n",
       "      <td>0</td>\n",
       "      <td>1</td>\n",
       "      <td>...</td>\n",
       "      <td>0</td>\n",
       "      <td>0</td>\n",
       "      <td>0</td>\n",
       "      <td>0</td>\n",
       "      <td>0</td>\n",
       "      <td>0</td>\n",
       "      <td>1</td>\n",
       "      <td>0</td>\n",
       "      <td>0</td>\n",
       "      <td>0</td>\n",
       "    </tr>\n",
       "    <tr>\n",
       "      <th>3</th>\n",
       "      <td>58</td>\n",
       "      <td>4</td>\n",
       "      <td>0</td>\n",
       "      <td>0</td>\n",
       "      <td>110199</td>\n",
       "      <td>40</td>\n",
       "      <td>0</td>\n",
       "      <td>0</td>\n",
       "      <td>0</td>\n",
       "      <td>0</td>\n",
       "      <td>...</td>\n",
       "      <td>0</td>\n",
       "      <td>0</td>\n",
       "      <td>0</td>\n",
       "      <td>0</td>\n",
       "      <td>0</td>\n",
       "      <td>0</td>\n",
       "      <td>1</td>\n",
       "      <td>0</td>\n",
       "      <td>0</td>\n",
       "      <td>0</td>\n",
       "    </tr>\n",
       "    <tr>\n",
       "      <th>4</th>\n",
       "      <td>25</td>\n",
       "      <td>10</td>\n",
       "      <td>0</td>\n",
       "      <td>0</td>\n",
       "      <td>149248</td>\n",
       "      <td>40</td>\n",
       "      <td>0</td>\n",
       "      <td>0</td>\n",
       "      <td>0</td>\n",
       "      <td>0</td>\n",
       "      <td>...</td>\n",
       "      <td>0</td>\n",
       "      <td>0</td>\n",
       "      <td>0</td>\n",
       "      <td>0</td>\n",
       "      <td>0</td>\n",
       "      <td>0</td>\n",
       "      <td>1</td>\n",
       "      <td>0</td>\n",
       "      <td>0</td>\n",
       "      <td>0</td>\n",
       "    </tr>\n",
       "    <tr>\n",
       "      <th>...</th>\n",
       "      <td>...</td>\n",
       "      <td>...</td>\n",
       "      <td>...</td>\n",
       "      <td>...</td>\n",
       "      <td>...</td>\n",
       "      <td>...</td>\n",
       "      <td>...</td>\n",
       "      <td>...</td>\n",
       "      <td>...</td>\n",
       "      <td>...</td>\n",
       "      <td>...</td>\n",
       "      <td>...</td>\n",
       "      <td>...</td>\n",
       "      <td>...</td>\n",
       "      <td>...</td>\n",
       "      <td>...</td>\n",
       "      <td>...</td>\n",
       "      <td>...</td>\n",
       "      <td>...</td>\n",
       "      <td>...</td>\n",
       "      <td>...</td>\n",
       "    </tr>\n",
       "    <tr>\n",
       "      <th>43952</th>\n",
       "      <td>52</td>\n",
       "      <td>13</td>\n",
       "      <td>0</td>\n",
       "      <td>0</td>\n",
       "      <td>68982</td>\n",
       "      <td>50</td>\n",
       "      <td>0</td>\n",
       "      <td>0</td>\n",
       "      <td>0</td>\n",
       "      <td>1</td>\n",
       "      <td>...</td>\n",
       "      <td>0</td>\n",
       "      <td>0</td>\n",
       "      <td>0</td>\n",
       "      <td>0</td>\n",
       "      <td>0</td>\n",
       "      <td>0</td>\n",
       "      <td>1</td>\n",
       "      <td>0</td>\n",
       "      <td>0</td>\n",
       "      <td>0</td>\n",
       "    </tr>\n",
       "    <tr>\n",
       "      <th>43953</th>\n",
       "      <td>19</td>\n",
       "      <td>9</td>\n",
       "      <td>0</td>\n",
       "      <td>0</td>\n",
       "      <td>116562</td>\n",
       "      <td>40</td>\n",
       "      <td>0</td>\n",
       "      <td>0</td>\n",
       "      <td>0</td>\n",
       "      <td>1</td>\n",
       "      <td>...</td>\n",
       "      <td>0</td>\n",
       "      <td>0</td>\n",
       "      <td>0</td>\n",
       "      <td>0</td>\n",
       "      <td>0</td>\n",
       "      <td>0</td>\n",
       "      <td>1</td>\n",
       "      <td>0</td>\n",
       "      <td>0</td>\n",
       "      <td>0</td>\n",
       "    </tr>\n",
       "    <tr>\n",
       "      <th>43954</th>\n",
       "      <td>30</td>\n",
       "      <td>10</td>\n",
       "      <td>0</td>\n",
       "      <td>0</td>\n",
       "      <td>197947</td>\n",
       "      <td>58</td>\n",
       "      <td>0</td>\n",
       "      <td>0</td>\n",
       "      <td>0</td>\n",
       "      <td>1</td>\n",
       "      <td>...</td>\n",
       "      <td>0</td>\n",
       "      <td>0</td>\n",
       "      <td>0</td>\n",
       "      <td>0</td>\n",
       "      <td>0</td>\n",
       "      <td>0</td>\n",
       "      <td>1</td>\n",
       "      <td>0</td>\n",
       "      <td>0</td>\n",
       "      <td>0</td>\n",
       "    </tr>\n",
       "    <tr>\n",
       "      <th>43955</th>\n",
       "      <td>46</td>\n",
       "      <td>13</td>\n",
       "      <td>0</td>\n",
       "      <td>0</td>\n",
       "      <td>97883</td>\n",
       "      <td>35</td>\n",
       "      <td>0</td>\n",
       "      <td>0</td>\n",
       "      <td>0</td>\n",
       "      <td>1</td>\n",
       "      <td>...</td>\n",
       "      <td>0</td>\n",
       "      <td>0</td>\n",
       "      <td>0</td>\n",
       "      <td>0</td>\n",
       "      <td>0</td>\n",
       "      <td>0</td>\n",
       "      <td>1</td>\n",
       "      <td>0</td>\n",
       "      <td>0</td>\n",
       "      <td>0</td>\n",
       "    </tr>\n",
       "    <tr>\n",
       "      <th>43956</th>\n",
       "      <td>30</td>\n",
       "      <td>9</td>\n",
       "      <td>0</td>\n",
       "      <td>0</td>\n",
       "      <td>375827</td>\n",
       "      <td>40</td>\n",
       "      <td>0</td>\n",
       "      <td>0</td>\n",
       "      <td>0</td>\n",
       "      <td>1</td>\n",
       "      <td>...</td>\n",
       "      <td>0</td>\n",
       "      <td>0</td>\n",
       "      <td>0</td>\n",
       "      <td>0</td>\n",
       "      <td>0</td>\n",
       "      <td>0</td>\n",
       "      <td>1</td>\n",
       "      <td>0</td>\n",
       "      <td>0</td>\n",
       "      <td>0</td>\n",
       "    </tr>\n",
       "  </tbody>\n",
       "</table>\n",
       "<p>43957 rows × 108 columns</p>\n",
       "</div>"
      ],
      "text/plain": [
       "       age  educational-num  capital-gain  capital-loss  fnlwgt  \\\n",
       "0       67               16         99999             0  366425   \n",
       "1       17                8             0             0  244602   \n",
       "2       31               13             0             0  174201   \n",
       "3       58                4             0             0  110199   \n",
       "4       25               10             0             0  149248   \n",
       "...    ...              ...           ...           ...     ...   \n",
       "43952   52               13             0             0   68982   \n",
       "43953   19                9             0             0  116562   \n",
       "43954   30               10             0             0  197947   \n",
       "43955   46               13             0             0   97883   \n",
       "43956   30                9             0             0  375827   \n",
       "\n",
       "       hours-per-week  workclass_Federal-gov  workclass_Local-gov  \\\n",
       "0                  60                      0                    0   \n",
       "1                  15                      0                    0   \n",
       "2                  40                      0                    0   \n",
       "3                  40                      0                    0   \n",
       "4                  40                      0                    0   \n",
       "...               ...                    ...                  ...   \n",
       "43952              50                      0                    0   \n",
       "43953              40                      0                    0   \n",
       "43954              58                      0                    0   \n",
       "43955              35                      0                    0   \n",
       "43956              40                      0                    0   \n",
       "\n",
       "       workclass_Never-worked  workclass_Private  ...  \\\n",
       "0                           0                  1  ...   \n",
       "1                           0                  1  ...   \n",
       "2                           0                  1  ...   \n",
       "3                           0                  0  ...   \n",
       "4                           0                  0  ...   \n",
       "...                       ...                ...  ...   \n",
       "43952                       0                  1  ...   \n",
       "43953                       0                  1  ...   \n",
       "43954                       0                  1  ...   \n",
       "43955                       0                  1  ...   \n",
       "43956                       0                  1  ...   \n",
       "\n",
       "       native-country_Puerto-Rico  native-country_Scotland  \\\n",
       "0                               0                        0   \n",
       "1                               0                        0   \n",
       "2                               0                        0   \n",
       "3                               0                        0   \n",
       "4                               0                        0   \n",
       "...                           ...                      ...   \n",
       "43952                           0                        0   \n",
       "43953                           0                        0   \n",
       "43954                           0                        0   \n",
       "43955                           0                        0   \n",
       "43956                           0                        0   \n",
       "\n",
       "       native-country_South  native-country_Taiwan  native-country_Thailand  \\\n",
       "0                         0                      0                        0   \n",
       "1                         0                      0                        0   \n",
       "2                         0                      0                        0   \n",
       "3                         0                      0                        0   \n",
       "4                         0                      0                        0   \n",
       "...                     ...                    ...                      ...   \n",
       "43952                     0                      0                        0   \n",
       "43953                     0                      0                        0   \n",
       "43954                     0                      0                        0   \n",
       "43955                     0                      0                        0   \n",
       "43956                     0                      0                        0   \n",
       "\n",
       "       native-country_Trinadad&Tobago  native-country_United-States  \\\n",
       "0                                   0                             1   \n",
       "1                                   0                             1   \n",
       "2                                   0                             1   \n",
       "3                                   0                             1   \n",
       "4                                   0                             1   \n",
       "...                               ...                           ...   \n",
       "43952                               0                             1   \n",
       "43953                               0                             1   \n",
       "43954                               0                             1   \n",
       "43955                               0                             1   \n",
       "43956                               0                             1   \n",
       "\n",
       "       native-country_Vietnam  native-country_Yugoslavia  \\\n",
       "0                           0                          0   \n",
       "1                           0                          0   \n",
       "2                           0                          0   \n",
       "3                           0                          0   \n",
       "4                           0                          0   \n",
       "...                       ...                        ...   \n",
       "43952                       0                          0   \n",
       "43953                       0                          0   \n",
       "43954                       0                          0   \n",
       "43955                       0                          0   \n",
       "43956                       0                          0   \n",
       "\n",
       "       native-country_missing  \n",
       "0                           0  \n",
       "1                           0  \n",
       "2                           0  \n",
       "3                           0  \n",
       "4                           0  \n",
       "...                       ...  \n",
       "43952                       0  \n",
       "43953                       0  \n",
       "43954                       0  \n",
       "43955                       0  \n",
       "43956                       0  \n",
       "\n",
       "[43957 rows x 108 columns]"
      ]
     },
     "execution_count": 24,
     "metadata": {},
     "output_type": "execute_result"
    }
   ],
   "source": [
    "#Converting categorical values into numerical values using dummies\n",
    "dummies = pd.get_dummies(income[[\"age\", \"workclass\", \"education\", \"educational-num\", \"capital-gain\", \"capital-loss\", \"fnlwgt\", \"marital-status\", \"occupation\", \n",
    "                           \"relationship\", \"race\", \"gender\",\"hours-per-week\",\"native-country\"]])\n",
    "dummies\n"
   ]
  },
  {
   "cell_type": "code",
   "execution_count": 25,
   "id": "ec87495e",
   "metadata": {},
   "outputs": [
    {
     "data": {
      "text/plain": [
       "Private             30587\n",
       "Self-emp-not-inc     3464\n",
       "Local-gov            2822\n",
       "missing              2498\n",
       "State-gov            1756\n",
       "Self-emp-inc         1518\n",
       "Federal-gov          1284\n",
       "Without-pay            20\n",
       "Never-worked            8\n",
       "Name: workclass, dtype: int64"
      ]
     },
     "execution_count": 25,
     "metadata": {},
     "output_type": "execute_result"
    }
   ],
   "source": [
    "#Checking if our categorical variable has converted into a numerical value\n",
    "X[\"workclass\"].value_counts()"
   ]
  },
  {
   "cell_type": "code",
   "execution_count": 26,
   "id": "10c4dc6c",
   "metadata": {},
   "outputs": [
    {
     "data": {
      "text/plain": [
       "((35165, 108), (8792, 108), (35165,), (8792,))"
      ]
     },
     "execution_count": 26,
     "metadata": {},
     "output_type": "execute_result"
    }
   ],
   "source": [
    "#Refitting the model\n",
    "np.random.seed(0)\n",
    "X_train, X_test, y_train, y_test = train_test_split(dummies, y, test_size = 0.2)\n",
    "\n",
    "X_train.shape, X_test.shape, y_train.shape, y_test.shape"
   ]
  },
  {
   "cell_type": "markdown",
   "id": "a89be98d",
   "metadata": {},
   "source": [
    "## Linear Classification"
   ]
  },
  {
   "cell_type": "code",
   "execution_count": 27,
   "id": "bc716f01",
   "metadata": {},
   "outputs": [],
   "source": [
    "#Without K-fold cross validation\n",
    "clf = svm.SVC()\n",
    "clf.fit(X_train, y_train)\n",
    "y_pred = clf.predict(X_test)"
   ]
  },
  {
   "cell_type": "code",
   "execution_count": 28,
   "id": "87bb1e89",
   "metadata": {
    "scrolled": true
   },
   "outputs": [
    {
     "name": "stdout",
     "output_type": "stream",
     "text": [
      "Accuracy of the model = 79.49%\n"
     ]
    }
   ],
   "source": [
    "print(f\"Accuracy of the model = {accuracy_score(y_test, y_pred):.2%}\")"
   ]
  },
  {
   "cell_type": "code",
   "execution_count": 60,
   "id": "267cfb39",
   "metadata": {},
   "outputs": [
    {
     "data": {
      "text/plain": [
       "array([0.79868062, 0.7966333 , 0.79822566, 0.79845314, 0.79913558,\n",
       "       0.79936306, 0.79959054, 0.79658703, 0.79908987, 0.79908987])"
      ]
     },
     "execution_count": 60,
     "metadata": {},
     "output_type": "execute_result"
    }
   ],
   "source": [
    "#Accuracy of linear classifier for 10-fold cross validation \n",
    "cross_val_score(clf, dummies, y, cv=10)"
   ]
  },
  {
   "cell_type": "code",
   "execution_count": 70,
   "id": "c1280cbc",
   "metadata": {
    "scrolled": false
   },
   "outputs": [
    {
     "data": {
      "image/png": "[encoded data removed]",
      "text/plain": [
       "<Figure size 640x480 with 2 Axes>"
      ]
     },
     "metadata": {},
     "output_type": "display_data"
    }
   ],
   "source": [
    "cm = confusion_matrix(y_test, y_pred, labels=clf.classes_)\n",
    "disp = ConfusionMatrixDisplay(confusion_matrix=cm,display_labels=clf.classes_)\n",
    "disp.plot()\n",
    "plt.show()"
   ]
  },
  {
   "cell_type": "markdown",
   "id": "fcc62a11",
   "metadata": {},
   "source": [
    "## Multilayer Perceptrons"
   ]
  },
  {
   "cell_type": "code",
   "execution_count": 37,
   "id": "cab765dc",
   "metadata": {},
   "outputs": [
    {
     "data": {
      "text/plain": [
       "MLPClassifier()"
      ]
     },
     "execution_count": 37,
     "metadata": {},
     "output_type": "execute_result"
    }
   ],
   "source": [
    "#Training model with multilayer Perceptron\n",
    "mlp = MLPClassifier()\n",
    "mlp.fit(X_train,y_train)"
   ]
  },
  {
   "cell_type": "code",
   "execution_count": 38,
   "id": "d10f3692",
   "metadata": {},
   "outputs": [
    {
     "data": {
      "text/plain": [
       "array([0, 0, 0, ..., 0, 1, 0], dtype=int64)"
      ]
     },
     "execution_count": 38,
     "metadata": {},
     "output_type": "execute_result"
    }
   ],
   "source": [
    "y_pred = mlp.predict(X_test)\n",
    "y_pred"
   ]
  },
  {
   "cell_type": "code",
   "execution_count": 39,
   "id": "33e5e413",
   "metadata": {},
   "outputs": [
    {
     "name": "stdout",
     "output_type": "stream",
     "text": [
      "Accuracy of the model = 79.47%\n"
     ]
    }
   ],
   "source": [
    "print(f\"Accuracy of the model = {accuracy_score(y_test, y_pred):.2%}\")"
   ]
  },
  {
   "cell_type": "markdown",
   "id": "896c91b4",
   "metadata": {},
   "source": [
    "### Experimenting with different parameters"
   ]
  },
  {
   "cell_type": "code",
   "execution_count": 94,
   "id": "183ee4a6",
   "metadata": {},
   "outputs": [
    {
     "data": {
      "text/plain": [
       "MLPClassifier(hidden_layer_sizes=(200, 400), learning_rate='adaptive',\n",
       "              momentum=1)"
      ]
     },
     "execution_count": 94,
     "metadata": {},
     "output_type": "execute_result"
    }
   ],
   "source": [
    "#Training model with multilayer Perceptron\n",
    "np.random.seed(20)\n",
    "mlp = MLPClassifier(hidden_layer_sizes=(200,400), activation = 'relu', learning_rate = 'adaptive', momentum = 1 )\n",
    "mlp.fit(X_train,y_train)"
   ]
  },
  {
   "cell_type": "code",
   "execution_count": 115,
   "id": "c886eeb2",
   "metadata": {},
   "outputs": [
    {
     "data": {
      "text/plain": [
       "array([1, 0, 0, ..., 0, 0, 0], dtype=int64)"
      ]
     },
     "execution_count": 115,
     "metadata": {},
     "output_type": "execute_result"
    }
   ],
   "source": [
    "y_pred = mlp.predict(X_test)\n",
    "y_pred"
   ]
  },
  {
   "cell_type": "code",
   "execution_count": 96,
   "id": "e06dd7cf",
   "metadata": {},
   "outputs": [
    {
     "name": "stdout",
     "output_type": "stream",
     "text": [
      "Accuracy of the model = 83.83%\n"
     ]
    }
   ],
   "source": [
    "print(f\"Accuracy of the model = {accuracy_score(y_test, y_pred):.2%}\")"
   ]
  },
  {
   "cell_type": "code",
   "execution_count": 97,
   "id": "94dc5ded",
   "metadata": {},
   "outputs": [
    {
     "data": {
      "image/png": "[encoded data removed]",
      "text/plain": [
       "<Figure size 640x480 with 2 Axes>"
      ]
     },
     "metadata": {},
     "output_type": "display_data"
    }
   ],
   "source": [
    "cm = confusion_matrix(y_test, y_pred, labels=mlp.classes_)\n",
    "disp = ConfusionMatrixDisplay(confusion_matrix=cm,display_labels=mlp.classes_)\n",
    "disp.plot()\n",
    "plt.show()"
   ]
  },
  {
   "cell_type": "code",
   "execution_count": 98,
   "id": "3423d849",
   "metadata": {},
   "outputs": [
    {
     "data": {
      "text/plain": [
       "array([0.       , 0.0458427, 1.       ])"
      ]
     },
     "execution_count": 98,
     "metadata": {},
     "output_type": "execute_result"
    }
   ],
   "source": [
    "#ROC Curve\n",
    "y_probs = mlp.predict_proba(X_train)\n",
    "y_probs = y_probs[:, 1]\n",
    "fpr, tpr, thresholds = roc_curve(y_test, y_pred)\n",
    "fpr"
   ]
  },
  {
   "cell_type": "code",
   "execution_count": 99,
   "id": "83a84954",
   "metadata": {},
   "outputs": [
    {
     "data": {
      "image/png": "[encoded data removed]",
      "text/plain": [
       "<Figure size 640x480 with 1 Axes>"
      ]
     },
     "metadata": {},
     "output_type": "display_data"
    }
   ],
   "source": [
    "def plot_roc_curve(fpr, tpr):\n",
    "    # Plot ROC curve\n",
    "    plt.plot(fpr, tpr, color='green', label='ROC')\n",
    "    # Plot line with no predictive power (baseline)\n",
    "    plt.plot([0, 1], [0, 1], color='black', linestyle='--', label='No Skill')\n",
    "    # Customization of the plot\n",
    "    plt.title('Receiver Operating Characteristic Curve')\n",
    "    plt.xlabel('False Positive Rate')\n",
    "    plt.ylabel('True Positive Rate')\n",
    "    plt.legend()\n",
    "    plt.show()\n",
    "    \n",
    "plot_roc_curve(fpr, tpr)"
   ]
  }
 ],
 "metadata": {
  "kernelspec": {
   "display_name": "Python 3",
   "language": "python",
   "name": "python3"
  },
  "language_info": {
   "codemirror_mode": {
    "name": "ipython",
    "version": 3
   },
   "file_extension": ".py",
   "mimetype": "text/x-python",
   "name": "python",
   "nbconvert_exporter": "python",
   "pygments_lexer": "ipython3",
   "version": "3.8.8"
  }
 },
 "nbformat": 4,
 "nbformat_minor": 5
}
