{
 "cells": [
  {
   "cell_type": "markdown",
   "id": "b0daabef",
   "metadata": {},
   "source": [
    "# CLUSTERING (Unsupervised ML)"
   ]
  },
  {
   "cell_type": "markdown",
   "id": "779587c3",
   "metadata": {},
   "source": [
    "## Setup"
   ]
  },
  {
   "cell_type": "code",
   "execution_count": 1,
   "id": "277cd444",
   "metadata": {},
   "outputs": [],
   "source": [
    "# Python ≥3.5 is required\n",
    "import sys\n",
    "assert sys.version_info >= (3, 5)\n",
    "\n",
    "# Scikit-Learn ≥0.20 is required\n",
    "import sklearn\n",
    "assert sklearn.__version__ >= \"0.20\"\n",
    "\n",
    "# Common imports\n",
    "import numpy as np\n",
    "import os\n",
    "import pandas as pd\n",
    "import seaborn as sns\n",
    "import matplotlib.pyplot as plt\n",
    "import seaborn as sns\n",
    "from sklearn.metrics import recall_score, precision_score, f1_score, confusion_matrix\n",
    "import scipy.cluster.hierarchy as sch\n",
    "from sklearn.cluster import AgglomerativeClustering\n",
    "from scipy.cluster.hierarchy import dendrogram\n",
    "from sklearn.metrics import r2_score, explained_variance_score, confusion_matrix, accuracy_score, classification_report, log_loss,silhouette_score\n",
    "from sklearn.model_selection import train_test_split\n",
    "from sklearn.cluster import KMeans, k_means\n",
    "from sklearn.cluster import MiniBatchKMeans\n",
    "\n",
    "\n",
    "\n",
    "# to make this notebook's output stable across runs\n",
    "np.random.seed(40)\n",
    "\n",
    "# To plot pretty figures\n",
    "%matplotlib inline\n",
    "import matplotlib as mpl\n",
    "import matplotlib.pyplot as plt\n",
    "mpl.rc('axes', labelsize=14)\n",
    "mpl.rc('xtick', labelsize=12)\n",
    "mpl.rc('ytick', labelsize=12)"
   ]
  },
  {
   "cell_type": "markdown",
   "id": "7d211c80",
   "metadata": {},
   "source": [
    "## Describing Dataset"
   ]
  },
  {
   "cell_type": "markdown",
   "id": "85fee0f9",
   "metadata": {},
   "source": [
    "#### A dataset that has a record of customer information and their outlook with respect to a certain event"
   ]
  },
  {
   "cell_type": "code",
   "execution_count": 2,
   "id": "d44e56e7",
   "metadata": {
    "scrolled": true
   },
   "outputs": [],
   "source": [
    "events= pd.read_csv(\"EventsRecord.csv\",low_memory=False)"
   ]
  },
  {
   "cell_type": "code",
   "execution_count": 3,
   "id": "99a59190",
   "metadata": {},
   "outputs": [
    {
     "data": {
      "text/html": [
       "<div>\n",
       "<style scoped>\n",
       "    .dataframe tbody tr th:only-of-type {\n",
       "        vertical-align: middle;\n",
       "    }\n",
       "\n",
       "    .dataframe tbody tr th {\n",
       "        vertical-align: top;\n",
       "    }\n",
       "\n",
       "    .dataframe thead th {\n",
       "        text-align: right;\n",
       "    }\n",
       "</style>\n",
       "<table border=\"1\" class=\"dataframe\">\n",
       "  <thead>\n",
       "    <tr style=\"text-align: right;\">\n",
       "      <th></th>\n",
       "      <th>CUSTOMER</th>\n",
       "      <th>Age</th>\n",
       "      <th>Gender</th>\n",
       "      <th>Postcode</th>\n",
       "      <th>District</th>\n",
       "      <th>Constituency</th>\n",
       "      <th>latitude</th>\n",
       "      <th>longitude</th>\n",
       "      <th>Current_Status</th>\n",
       "      <th>Total_Household_Income</th>\n",
       "      <th>How often you attend Entertaining events in a year?</th>\n",
       "      <th>Social_Media</th>\n",
       "      <th>How many hours are you willing to travel to attend an event?</th>\n",
       "      <th>Do you enjoy adrenaline-rush activities?</th>\n",
       "      <th>Are food areas, coffee areas, bars &amp; toilets important to you?</th>\n",
       "      <th>What is your favourite attraction from below:</th>\n",
       "      <th>Were you satisfied with the last event you attended with us?</th>\n",
       "      <th>Would you recommend our events to other people?</th>\n",
       "      <th>Did you find our events value for money?</th>\n",
       "    </tr>\n",
       "  </thead>\n",
       "  <tbody>\n",
       "    <tr>\n",
       "      <th>0</th>\n",
       "      <td>1</td>\n",
       "      <td>40-49</td>\n",
       "      <td>Female</td>\n",
       "      <td>AL9 7BN</td>\n",
       "      <td>Welwyn Hatfield</td>\n",
       "      <td>Welwyn Hatfield</td>\n",
       "      <td>51.727429</td>\n",
       "      <td>-0.183648</td>\n",
       "      <td>Married with children</td>\n",
       "      <td>50,000 to 74,999</td>\n",
       "      <td>4 Times a Year</td>\n",
       "      <td>Up to 1 hour</td>\n",
       "      <td>3 hours</td>\n",
       "      <td>Entirely disagree</td>\n",
       "      <td>Entirely agree</td>\n",
       "      <td>Ice Bar</td>\n",
       "      <td>Somewhat agree</td>\n",
       "      <td>Somewhat Unlikely</td>\n",
       "      <td>Somewhat disagree</td>\n",
       "    </tr>\n",
       "    <tr>\n",
       "      <th>1</th>\n",
       "      <td>2</td>\n",
       "      <td>60-64</td>\n",
       "      <td>Male</td>\n",
       "      <td>AL7 1ZW</td>\n",
       "      <td>Welwyn Hatfield</td>\n",
       "      <td>Welwyn Hatfield</td>\n",
       "      <td>51.804482</td>\n",
       "      <td>-0.195898</td>\n",
       "      <td>Married with children</td>\n",
       "      <td>35,000 to 49,999</td>\n",
       "      <td>3 Times a Year</td>\n",
       "      <td>Up to 1 hour</td>\n",
       "      <td>5 hours</td>\n",
       "      <td>Somewhat disagree</td>\n",
       "      <td>Entirely agree</td>\n",
       "      <td>Happy Rollercoaster</td>\n",
       "      <td>Mostly agree</td>\n",
       "      <td>Somewhat Likely</td>\n",
       "      <td>Entirely disagree</td>\n",
       "    </tr>\n",
       "    <tr>\n",
       "      <th>2</th>\n",
       "      <td>3</td>\n",
       "      <td>50-59</td>\n",
       "      <td>Male</td>\n",
       "      <td>AB4 5JX</td>\n",
       "      <td>Aberdeenshire</td>\n",
       "      <td>Banff and Buchan</td>\n",
       "      <td>57.692200</td>\n",
       "      <td>-2.022295</td>\n",
       "      <td>Married with children</td>\n",
       "      <td>75,000 to 99,999</td>\n",
       "      <td>3 Times a Year</td>\n",
       "      <td>I don't spend any time at all</td>\n",
       "      <td>5 hours</td>\n",
       "      <td>Somewhat disagree</td>\n",
       "      <td>Somewhat agree</td>\n",
       "      <td>Happy Rollercoaster</td>\n",
       "      <td>Mostly agree</td>\n",
       "      <td>Mostly Unlikely</td>\n",
       "      <td>Entirely disagree</td>\n",
       "    </tr>\n",
       "    <tr>\n",
       "      <th>3</th>\n",
       "      <td>4</td>\n",
       "      <td>50-59</td>\n",
       "      <td>Female</td>\n",
       "      <td>B24 0DL</td>\n",
       "      <td>Birmingham</td>\n",
       "      <td>Birmingham, Erdington</td>\n",
       "      <td>52.526595</td>\n",
       "      <td>-1.822211</td>\n",
       "      <td>Married without children</td>\n",
       "      <td>35,000 to 49,999</td>\n",
       "      <td>1 Times a Year</td>\n",
       "      <td>Half a day</td>\n",
       "      <td>1 hour</td>\n",
       "      <td>Entirely agree</td>\n",
       "      <td>Neither agree nor disagree</td>\n",
       "      <td>Crazy rollercoaster ride</td>\n",
       "      <td>Somewhat agree</td>\n",
       "      <td>Somewhat Likely</td>\n",
       "      <td>Somewhat disagree</td>\n",
       "    </tr>\n",
       "    <tr>\n",
       "      <th>4</th>\n",
       "      <td>5</td>\n",
       "      <td>60-64</td>\n",
       "      <td>Male</td>\n",
       "      <td>E17 5QP</td>\n",
       "      <td>Waltham Forest</td>\n",
       "      <td>Walthamstow</td>\n",
       "      <td>51.593979</td>\n",
       "      <td>-0.040803</td>\n",
       "      <td>Married with children</td>\n",
       "      <td>100,000 to 149,999</td>\n",
       "      <td>3 Times a Year</td>\n",
       "      <td>Up to 1 hour</td>\n",
       "      <td>6 hours plus</td>\n",
       "      <td>Mostly disagree</td>\n",
       "      <td>Neither agree nor disagree</td>\n",
       "      <td>Kids Playground</td>\n",
       "      <td>Entirely agree</td>\n",
       "      <td>Very Unlikely</td>\n",
       "      <td>Entirely agree</td>\n",
       "    </tr>\n",
       "    <tr>\n",
       "      <th>...</th>\n",
       "      <td>...</td>\n",
       "      <td>...</td>\n",
       "      <td>...</td>\n",
       "      <td>...</td>\n",
       "      <td>...</td>\n",
       "      <td>...</td>\n",
       "      <td>...</td>\n",
       "      <td>...</td>\n",
       "      <td>...</td>\n",
       "      <td>...</td>\n",
       "      <td>...</td>\n",
       "      <td>...</td>\n",
       "      <td>...</td>\n",
       "      <td>...</td>\n",
       "      <td>...</td>\n",
       "      <td>...</td>\n",
       "      <td>...</td>\n",
       "      <td>...</td>\n",
       "      <td>...</td>\n",
       "    </tr>\n",
       "    <tr>\n",
       "      <th>14778</th>\n",
       "      <td>16262</td>\n",
       "      <td>40-49</td>\n",
       "      <td>Male</td>\n",
       "      <td>AB23 8JT</td>\n",
       "      <td>Aberdeen City</td>\n",
       "      <td>Gordon</td>\n",
       "      <td>57.203497</td>\n",
       "      <td>-2.096799</td>\n",
       "      <td>Married with children</td>\n",
       "      <td>100,000 to 149,999</td>\n",
       "      <td>3 Times a Year</td>\n",
       "      <td>I don't spend any time at all</td>\n",
       "      <td>4 hours</td>\n",
       "      <td>Somewhat disagree</td>\n",
       "      <td>Entirely agree</td>\n",
       "      <td>Kids Playground</td>\n",
       "      <td>Entirely agree</td>\n",
       "      <td>Very Unlikely</td>\n",
       "      <td>Entirely agree</td>\n",
       "    </tr>\n",
       "    <tr>\n",
       "      <th>14779</th>\n",
       "      <td>16263</td>\n",
       "      <td>21-25</td>\n",
       "      <td>Male</td>\n",
       "      <td>CV34 5JN</td>\n",
       "      <td>Warwick</td>\n",
       "      <td>Warwick and Leamington</td>\n",
       "      <td>52.297782</td>\n",
       "      <td>-1.588626</td>\n",
       "      <td>Single, never married</td>\n",
       "      <td>Less than 20,000</td>\n",
       "      <td>4 Times a Year</td>\n",
       "      <td>Up to 2 hours</td>\n",
       "      <td>3 hours</td>\n",
       "      <td>Neither agree nor disagree</td>\n",
       "      <td>Entirely disagree</td>\n",
       "      <td>Wooden Bar</td>\n",
       "      <td>Mostly agree</td>\n",
       "      <td>Mostly Likely</td>\n",
       "      <td>Somewhat agree</td>\n",
       "    </tr>\n",
       "    <tr>\n",
       "      <th>14780</th>\n",
       "      <td>16264</td>\n",
       "      <td>40-49</td>\n",
       "      <td>Male</td>\n",
       "      <td>CM8 1FU</td>\n",
       "      <td>Braintree</td>\n",
       "      <td>Witham</td>\n",
       "      <td>51.789173</td>\n",
       "      <td>0.624822</td>\n",
       "      <td>Living with partner</td>\n",
       "      <td>100,000 to 149,999</td>\n",
       "      <td>4 Times a Year</td>\n",
       "      <td>Up to 1 hour</td>\n",
       "      <td>3 hours</td>\n",
       "      <td>Somewhat agree</td>\n",
       "      <td>Entirely disagree</td>\n",
       "      <td>Ice Bar</td>\n",
       "      <td>Mostly agree</td>\n",
       "      <td>Somewhat Likely</td>\n",
       "      <td>Neither agree nor disagree</td>\n",
       "    </tr>\n",
       "    <tr>\n",
       "      <th>14781</th>\n",
       "      <td>16266</td>\n",
       "      <td>50-59</td>\n",
       "      <td>Male</td>\n",
       "      <td>DD8 3JF</td>\n",
       "      <td>Angus</td>\n",
       "      <td>Angus</td>\n",
       "      <td>56.648815</td>\n",
       "      <td>-2.895498</td>\n",
       "      <td>Married with children</td>\n",
       "      <td>100,000 to 149,999</td>\n",
       "      <td>3 Times a Year</td>\n",
       "      <td>I don't spend any time at all</td>\n",
       "      <td>4 hours</td>\n",
       "      <td>Somewhat disagree</td>\n",
       "      <td>Entirely agree</td>\n",
       "      <td>Kids Playground</td>\n",
       "      <td>Entirely agree</td>\n",
       "      <td>Very Unlikely</td>\n",
       "      <td>Entirely agree</td>\n",
       "    </tr>\n",
       "    <tr>\n",
       "      <th>14782</th>\n",
       "      <td>16267</td>\n",
       "      <td>50-59</td>\n",
       "      <td>Male</td>\n",
       "      <td>EH12 7PG</td>\n",
       "      <td>City of Edinburgh</td>\n",
       "      <td>Edinburgh West</td>\n",
       "      <td>55.934406</td>\n",
       "      <td>-3.286236</td>\n",
       "      <td>Married with children</td>\n",
       "      <td>75,000 to 99,999</td>\n",
       "      <td>3 Times a Year</td>\n",
       "      <td>Up to 1 hour</td>\n",
       "      <td>5 hours</td>\n",
       "      <td>Entirely agree</td>\n",
       "      <td>Entirely disagree</td>\n",
       "      <td>Kids Playground</td>\n",
       "      <td>Mostly agree</td>\n",
       "      <td>Mostly Likely</td>\n",
       "      <td>Neither agree nor disagree</td>\n",
       "    </tr>\n",
       "  </tbody>\n",
       "</table>\n",
       "<p>14783 rows × 19 columns</p>\n",
       "</div>"
      ],
      "text/plain": [
       "       CUSTOMER    Age  Gender  Postcode           District  \\\n",
       "0             1  40-49  Female   AL9 7BN    Welwyn Hatfield   \n",
       "1             2  60-64    Male   AL7 1ZW    Welwyn Hatfield   \n",
       "2             3  50-59    Male   AB4 5JX      Aberdeenshire   \n",
       "3             4  50-59  Female   B24 0DL         Birmingham   \n",
       "4             5  60-64    Male   E17 5QP     Waltham Forest   \n",
       "...         ...    ...     ...       ...                ...   \n",
       "14778     16262  40-49    Male  AB23 8JT      Aberdeen City   \n",
       "14779     16263  21-25    Male  CV34 5JN            Warwick   \n",
       "14780     16264  40-49    Male   CM8 1FU          Braintree   \n",
       "14781     16266  50-59    Male   DD8 3JF              Angus   \n",
       "14782     16267  50-59    Male  EH12 7PG  City of Edinburgh   \n",
       "\n",
       "                 Constituency   latitude  longitude            Current_Status  \\\n",
       "0             Welwyn Hatfield  51.727429  -0.183648     Married with children   \n",
       "1             Welwyn Hatfield  51.804482  -0.195898     Married with children   \n",
       "2            Banff and Buchan  57.692200  -2.022295     Married with children   \n",
       "3       Birmingham, Erdington  52.526595  -1.822211  Married without children   \n",
       "4                 Walthamstow  51.593979  -0.040803     Married with children   \n",
       "...                       ...        ...        ...                       ...   \n",
       "14778                  Gordon  57.203497  -2.096799     Married with children   \n",
       "14779  Warwick and Leamington  52.297782  -1.588626     Single, never married   \n",
       "14780                  Witham  51.789173   0.624822       Living with partner   \n",
       "14781                   Angus  56.648815  -2.895498     Married with children   \n",
       "14782          Edinburgh West  55.934406  -3.286236     Married with children   \n",
       "\n",
       "      Total_Household_Income  \\\n",
       "0           50,000 to 74,999   \n",
       "1           35,000 to 49,999   \n",
       "2           75,000 to 99,999   \n",
       "3           35,000 to 49,999   \n",
       "4         100,000 to 149,999   \n",
       "...                      ...   \n",
       "14778     100,000 to 149,999   \n",
       "14779       Less than 20,000   \n",
       "14780     100,000 to 149,999   \n",
       "14781     100,000 to 149,999   \n",
       "14782       75,000 to 99,999   \n",
       "\n",
       "      How often you attend Entertaining events in a year?  \\\n",
       "0                                         4 Times a Year    \n",
       "1                                         3 Times a Year    \n",
       "2                                         3 Times a Year    \n",
       "3                                         1 Times a Year    \n",
       "4                                         3 Times a Year    \n",
       "...                                                  ...    \n",
       "14778                                     3 Times a Year    \n",
       "14779                                     4 Times a Year    \n",
       "14780                                     4 Times a Year    \n",
       "14781                                     3 Times a Year    \n",
       "14782                                     3 Times a Year    \n",
       "\n",
       "                        Social_Media  \\\n",
       "0                       Up to 1 hour   \n",
       "1                       Up to 1 hour   \n",
       "2      I don't spend any time at all   \n",
       "3                         Half a day   \n",
       "4                       Up to 1 hour   \n",
       "...                              ...   \n",
       "14778  I don't spend any time at all   \n",
       "14779                  Up to 2 hours   \n",
       "14780                   Up to 1 hour   \n",
       "14781  I don't spend any time at all   \n",
       "14782                   Up to 1 hour   \n",
       "\n",
       "      How many hours are you willing to travel to attend an event?  \\\n",
       "0                                                3 hours             \n",
       "1                                                5 hours             \n",
       "2                                                5 hours             \n",
       "3                                                 1 hour             \n",
       "4                                           6 hours plus             \n",
       "...                                                  ...             \n",
       "14778                                            4 hours             \n",
       "14779                                            3 hours             \n",
       "14780                                            3 hours             \n",
       "14781                                            4 hours             \n",
       "14782                                            5 hours             \n",
       "\n",
       "      Do you enjoy adrenaline-rush activities?  \\\n",
       "0                            Entirely disagree   \n",
       "1                            Somewhat disagree   \n",
       "2                            Somewhat disagree   \n",
       "3                               Entirely agree   \n",
       "4                              Mostly disagree   \n",
       "...                                        ...   \n",
       "14778                        Somewhat disagree   \n",
       "14779               Neither agree nor disagree   \n",
       "14780                           Somewhat agree   \n",
       "14781                        Somewhat disagree   \n",
       "14782                           Entirely agree   \n",
       "\n",
       "      Are food areas, coffee areas, bars & toilets important to you?  \\\n",
       "0                                         Entirely agree               \n",
       "1                                         Entirely agree               \n",
       "2                                         Somewhat agree               \n",
       "3                             Neither agree nor disagree               \n",
       "4                             Neither agree nor disagree               \n",
       "...                                                  ...               \n",
       "14778                                     Entirely agree               \n",
       "14779                                  Entirely disagree               \n",
       "14780                                  Entirely disagree               \n",
       "14781                                     Entirely agree               \n",
       "14782                                  Entirely disagree               \n",
       "\n",
       "      What is your favourite attraction from below:  \\\n",
       "0                                           Ice Bar   \n",
       "1                               Happy Rollercoaster   \n",
       "2                               Happy Rollercoaster   \n",
       "3                          Crazy rollercoaster ride   \n",
       "4                                   Kids Playground   \n",
       "...                                             ...   \n",
       "14778                               Kids Playground   \n",
       "14779                                    Wooden Bar   \n",
       "14780                                       Ice Bar   \n",
       "14781                               Kids Playground   \n",
       "14782                               Kids Playground   \n",
       "\n",
       "      Were you satisfied with the last event you attended with us?  \\\n",
       "0                                         Somewhat agree             \n",
       "1                                           Mostly agree             \n",
       "2                                           Mostly agree             \n",
       "3                                         Somewhat agree             \n",
       "4                                         Entirely agree             \n",
       "...                                                  ...             \n",
       "14778                                     Entirely agree             \n",
       "14779                                       Mostly agree             \n",
       "14780                                       Mostly agree             \n",
       "14781                                     Entirely agree             \n",
       "14782                                       Mostly agree             \n",
       "\n",
       "      Would you recommend our events to other people?  \\\n",
       "0                                   Somewhat Unlikely   \n",
       "1                                     Somewhat Likely   \n",
       "2                                     Mostly Unlikely   \n",
       "3                                     Somewhat Likely   \n",
       "4                                       Very Unlikely   \n",
       "...                                               ...   \n",
       "14778                                   Very Unlikely   \n",
       "14779                                   Mostly Likely   \n",
       "14780                                 Somewhat Likely   \n",
       "14781                                   Very Unlikely   \n",
       "14782                                   Mostly Likely   \n",
       "\n",
       "      Did you find our events value for money?  \n",
       "0                            Somewhat disagree  \n",
       "1                            Entirely disagree  \n",
       "2                            Entirely disagree  \n",
       "3                            Somewhat disagree  \n",
       "4                               Entirely agree  \n",
       "...                                        ...  \n",
       "14778                           Entirely agree  \n",
       "14779                           Somewhat agree  \n",
       "14780               Neither agree nor disagree  \n",
       "14781                           Entirely agree  \n",
       "14782               Neither agree nor disagree  \n",
       "\n",
       "[14783 rows x 19 columns]"
      ]
     },
     "execution_count": 3,
     "metadata": {},
     "output_type": "execute_result"
    }
   ],
   "source": [
    "events"
   ]
  },
  {
   "cell_type": "code",
   "execution_count": 11,
   "id": "62acf88a",
   "metadata": {
    "scrolled": true
   },
   "outputs": [
    {
     "data": {
      "text/plain": [
       "CUSTOMER                                                            int64\n",
       "Age                                                                object\n",
       "Gender                                                             object\n",
       "Postcode                                                           object\n",
       "District                                                           object\n",
       "Constituency                                                       object\n",
       "latitude                                                          float64\n",
       "longitude                                                         float64\n",
       "Current_Status                                                     object\n",
       "Total_Household_Income                                             object\n",
       "How often you attend Entertaining events in a year?                object\n",
       "Social_Media                                                       object\n",
       "How many hours are you willing to travel to attend an event?       object\n",
       "Do you enjoy adrenaline-rush activities?                           object\n",
       "Are food areas, coffee areas, bars & toilets important to you?     object\n",
       "What is your favourite attraction from below:                      object\n",
       "Were you satisfied with the last event you attended with us?       object\n",
       "Would you recommend our events to other people?                    object\n",
       "Did you find our events value for money?                           object\n",
       "dtype: object"
      ]
     },
     "execution_count": 11,
     "metadata": {},
     "output_type": "execute_result"
    }
   ],
   "source": [
    "events.dtypes"
   ]
  },
  {
   "cell_type": "code",
   "execution_count": 12,
   "id": "925d9079",
   "metadata": {
    "scrolled": false
   },
   "outputs": [
    {
     "name": "stdout",
     "output_type": "stream",
     "text": [
      "<class 'pandas.core.frame.DataFrame'>\n",
      "Int64Index: 14778 entries, 0 to 14782\n",
      "Data columns (total 19 columns):\n",
      " #   Column                                                          Non-Null Count  Dtype  \n",
      "---  ------                                                          --------------  -----  \n",
      " 0   CUSTOMER                                                        14778 non-null  int64  \n",
      " 1   Age                                                             14778 non-null  object \n",
      " 2   Gender                                                          14778 non-null  object \n",
      " 3   Postcode                                                        14778 non-null  object \n",
      " 4   District                                                        14778 non-null  object \n",
      " 5   Constituency                                                    14778 non-null  object \n",
      " 6   latitude                                                        14778 non-null  float64\n",
      " 7   longitude                                                       14778 non-null  float64\n",
      " 8   Current_Status                                                  14778 non-null  object \n",
      " 9   Total_Household_Income                                          14778 non-null  object \n",
      " 10  How often you attend Entertaining events in a year?             14778 non-null  object \n",
      " 11  Social_Media                                                    14778 non-null  object \n",
      " 12  How many hours are you willing to travel to attend an event?    14778 non-null  object \n",
      " 13  Do you enjoy adrenaline-rush activities?                        14778 non-null  object \n",
      " 14  Are food areas, coffee areas, bars & toilets important to you?  14778 non-null  object \n",
      " 15  What is your favourite attraction from below:                   14778 non-null  object \n",
      " 16  Were you satisfied with the last event you attended with us?    14778 non-null  object \n",
      " 17  Would you recommend our events to other people?                 14778 non-null  object \n",
      " 18  Did you find our events value for money?                        14778 non-null  object \n",
      "dtypes: float64(2), int64(1), object(16)\n",
      "memory usage: 2.3+ MB\n"
     ]
    }
   ],
   "source": [
    "events.info()"
   ]
  },
  {
   "cell_type": "code",
   "execution_count": 13,
   "id": "6b1966b8",
   "metadata": {},
   "outputs": [
    {
     "data": {
      "text/plain": [
       "CUSTOMER                                                          0\n",
       "Age                                                               0\n",
       "Gender                                                            0\n",
       "Postcode                                                          0\n",
       "District                                                          0\n",
       "Constituency                                                      0\n",
       "latitude                                                          0\n",
       "longitude                                                         0\n",
       "Current_Status                                                    0\n",
       "Total_Household_Income                                            0\n",
       "How often you attend Entertaining events in a year?               0\n",
       "Social_Media                                                      0\n",
       "How many hours are you willing to travel to attend an event?      0\n",
       "Do you enjoy adrenaline-rush activities?                          0\n",
       "Are food areas, coffee areas, bars & toilets important to you?    0\n",
       "What is your favourite attraction from below:                     0\n",
       "Were you satisfied with the last event you attended with us?      0\n",
       "Would you recommend our events to other people?                   0\n",
       "Did you find our events value for money?                          0\n",
       "dtype: int64"
      ]
     },
     "execution_count": 13,
     "metadata": {},
     "output_type": "execute_result"
    }
   ],
   "source": [
    "events.isnull().sum()"
   ]
  },
  {
   "cell_type": "markdown",
   "id": "8545f503",
   "metadata": {},
   "source": [
    "## Fillup Missing Data"
   ]
  },
  {
   "cell_type": "code",
   "execution_count": 14,
   "id": "dc07671a",
   "metadata": {},
   "outputs": [
    {
     "data": {
      "text/plain": [
       "CUSTOMER                                                          0\n",
       "Age                                                               0\n",
       "Gender                                                            0\n",
       "Postcode                                                          0\n",
       "District                                                          0\n",
       "Constituency                                                      0\n",
       "latitude                                                          0\n",
       "longitude                                                         0\n",
       "Current_Status                                                    0\n",
       "Total_Household_Income                                            0\n",
       "How often you attend Entertaining events in a year?               0\n",
       "Social_Media                                                      0\n",
       "How many hours are you willing to travel to attend an event?      0\n",
       "Do you enjoy adrenaline-rush activities?                          0\n",
       "Are food areas, coffee areas, bars & toilets important to you?    0\n",
       "What is your favourite attraction from below:                     0\n",
       "Were you satisfied with the last event you attended with us?      0\n",
       "Would you recommend our events to other people?                   0\n",
       "Did you find our events value for money?                          0\n",
       "dtype: int64"
      ]
     },
     "execution_count": 14,
     "metadata": {},
     "output_type": "execute_result"
    }
   ],
   "source": [
    "events = events.dropna(subset = ['Total_Household_Income'])\n",
    "events.isnull().sum()"
   ]
  },
  {
   "cell_type": "code",
   "execution_count": 15,
   "id": "fbe4cfcd",
   "metadata": {},
   "outputs": [
    {
     "name": "stdout",
     "output_type": "stream",
     "text": [
      "(14778, 19)\n"
     ]
    }
   ],
   "source": [
    "print(events.shape)"
   ]
  },
  {
   "cell_type": "markdown",
   "id": "de7b0a9f",
   "metadata": {},
   "source": [
    "## Converting Categirical features to Binary"
   ]
  },
  {
   "cell_type": "code",
   "execution_count": 16,
   "id": "76ca6c6a",
   "metadata": {
    "scrolled": true
   },
   "outputs": [
    {
     "data": {
      "text/plain": [
       "Index(['CUSTOMER', 'Age', 'Gender', 'Postcode', 'District', 'Constituency',\n",
       "       'latitude', 'longitude', 'Current_Status', 'Total_Household_Income',\n",
       "       'How often you attend Entertaining events in a year?', 'Social_Media',\n",
       "       'How many hours are you willing to travel to attend an event?',\n",
       "       'Do you enjoy adrenaline-rush activities?',\n",
       "       'Are food areas, coffee areas, bars & toilets important to you?',\n",
       "       'What is your favourite attraction from below:',\n",
       "       'Were you satisfied with the last event you attended with us?',\n",
       "       'Would you recommend our events to other people?',\n",
       "       'Did you find our events value for money?'],\n",
       "      dtype='object')"
      ]
     },
     "execution_count": 16,
     "metadata": {},
     "output_type": "execute_result"
    }
   ],
   "source": [
    "events.columns"
   ]
  },
  {
   "cell_type": "code",
   "execution_count": 17,
   "id": "836106d3",
   "metadata": {},
   "outputs": [],
   "source": [
    "features = ['Age', 'Gender', 'Current_Status',\n",
    "       'How often you attend Entertaining events in a year?', 'Social_Media',\n",
    "       'How many hours are you willing to travel to attend an event?',\n",
    "       'Do you enjoy adrenaline-rush activities?',\n",
    "       'Are food areas, coffee areas, bars & toilets important to you?',\n",
    "       'What is your favourite attraction from below:',\n",
    "       'Were you satisfied with the last event you attended with us?',\n",
    "       'Would you recommend our events to other people?',\n",
    "       'Did you find our events value for money?']"
   ]
  },
  {
   "cell_type": "code",
   "execution_count": 18,
   "id": "5033c38e",
   "metadata": {},
   "outputs": [],
   "source": [
    "data = events[features]"
   ]
  },
  {
   "cell_type": "code",
   "execution_count": 19,
   "id": "8b091e5b",
   "metadata": {},
   "outputs": [
    {
     "data": {
      "text/html": [
       "<div>\n",
       "<style scoped>\n",
       "    .dataframe tbody tr th:only-of-type {\n",
       "        vertical-align: middle;\n",
       "    }\n",
       "\n",
       "    .dataframe tbody tr th {\n",
       "        vertical-align: top;\n",
       "    }\n",
       "\n",
       "    .dataframe thead th {\n",
       "        text-align: right;\n",
       "    }\n",
       "</style>\n",
       "<table border=\"1\" class=\"dataframe\">\n",
       "  <thead>\n",
       "    <tr style=\"text-align: right;\">\n",
       "      <th></th>\n",
       "      <th>Age_17 or younger</th>\n",
       "      <th>Age_18-20</th>\n",
       "      <th>Age_21-25</th>\n",
       "      <th>Age_26-32</th>\n",
       "      <th>Age_33-39</th>\n",
       "      <th>Age_40-49</th>\n",
       "      <th>Age_50-59</th>\n",
       "      <th>Age_60-64</th>\n",
       "      <th>Age_65 or older</th>\n",
       "      <th>Gender_Female</th>\n",
       "      <th>...</th>\n",
       "      <th>Would you recommend our events to other people?_Somewhat Unlikely</th>\n",
       "      <th>Would you recommend our events to other people?_Very Likely</th>\n",
       "      <th>Would you recommend our events to other people?_Very Unlikely</th>\n",
       "      <th>Did you find our events value for money?_Entirely agree</th>\n",
       "      <th>Did you find our events value for money?_Entirely disagree</th>\n",
       "      <th>Did you find our events value for money?_Mostly agree</th>\n",
       "      <th>Did you find our events value for money?_Mostly disagree</th>\n",
       "      <th>Did you find our events value for money?_Neither agree nor disagree</th>\n",
       "      <th>Did you find our events value for money?_Somewhat agree</th>\n",
       "      <th>Did you find our events value for money?_Somewhat disagree</th>\n",
       "    </tr>\n",
       "  </thead>\n",
       "  <tbody>\n",
       "    <tr>\n",
       "      <th>0</th>\n",
       "      <td>0</td>\n",
       "      <td>0</td>\n",
       "      <td>0</td>\n",
       "      <td>0</td>\n",
       "      <td>0</td>\n",
       "      <td>1</td>\n",
       "      <td>0</td>\n",
       "      <td>0</td>\n",
       "      <td>0</td>\n",
       "      <td>1</td>\n",
       "      <td>...</td>\n",
       "      <td>1</td>\n",
       "      <td>0</td>\n",
       "      <td>0</td>\n",
       "      <td>0</td>\n",
       "      <td>0</td>\n",
       "      <td>0</td>\n",
       "      <td>0</td>\n",
       "      <td>0</td>\n",
       "      <td>0</td>\n",
       "      <td>1</td>\n",
       "    </tr>\n",
       "    <tr>\n",
       "      <th>1</th>\n",
       "      <td>0</td>\n",
       "      <td>0</td>\n",
       "      <td>0</td>\n",
       "      <td>0</td>\n",
       "      <td>0</td>\n",
       "      <td>0</td>\n",
       "      <td>0</td>\n",
       "      <td>1</td>\n",
       "      <td>0</td>\n",
       "      <td>0</td>\n",
       "      <td>...</td>\n",
       "      <td>0</td>\n",
       "      <td>0</td>\n",
       "      <td>0</td>\n",
       "      <td>0</td>\n",
       "      <td>1</td>\n",
       "      <td>0</td>\n",
       "      <td>0</td>\n",
       "      <td>0</td>\n",
       "      <td>0</td>\n",
       "      <td>0</td>\n",
       "    </tr>\n",
       "    <tr>\n",
       "      <th>2</th>\n",
       "      <td>0</td>\n",
       "      <td>0</td>\n",
       "      <td>0</td>\n",
       "      <td>0</td>\n",
       "      <td>0</td>\n",
       "      <td>0</td>\n",
       "      <td>1</td>\n",
       "      <td>0</td>\n",
       "      <td>0</td>\n",
       "      <td>0</td>\n",
       "      <td>...</td>\n",
       "      <td>0</td>\n",
       "      <td>0</td>\n",
       "      <td>0</td>\n",
       "      <td>0</td>\n",
       "      <td>1</td>\n",
       "      <td>0</td>\n",
       "      <td>0</td>\n",
       "      <td>0</td>\n",
       "      <td>0</td>\n",
       "      <td>0</td>\n",
       "    </tr>\n",
       "    <tr>\n",
       "      <th>3</th>\n",
       "      <td>0</td>\n",
       "      <td>0</td>\n",
       "      <td>0</td>\n",
       "      <td>0</td>\n",
       "      <td>0</td>\n",
       "      <td>0</td>\n",
       "      <td>1</td>\n",
       "      <td>0</td>\n",
       "      <td>0</td>\n",
       "      <td>1</td>\n",
       "      <td>...</td>\n",
       "      <td>0</td>\n",
       "      <td>0</td>\n",
       "      <td>0</td>\n",
       "      <td>0</td>\n",
       "      <td>0</td>\n",
       "      <td>0</td>\n",
       "      <td>0</td>\n",
       "      <td>0</td>\n",
       "      <td>0</td>\n",
       "      <td>1</td>\n",
       "    </tr>\n",
       "    <tr>\n",
       "      <th>4</th>\n",
       "      <td>0</td>\n",
       "      <td>0</td>\n",
       "      <td>0</td>\n",
       "      <td>0</td>\n",
       "      <td>0</td>\n",
       "      <td>0</td>\n",
       "      <td>0</td>\n",
       "      <td>1</td>\n",
       "      <td>0</td>\n",
       "      <td>0</td>\n",
       "      <td>...</td>\n",
       "      <td>0</td>\n",
       "      <td>0</td>\n",
       "      <td>1</td>\n",
       "      <td>1</td>\n",
       "      <td>0</td>\n",
       "      <td>0</td>\n",
       "      <td>0</td>\n",
       "      <td>0</td>\n",
       "      <td>0</td>\n",
       "      <td>0</td>\n",
       "    </tr>\n",
       "  </tbody>\n",
       "</table>\n",
       "<p>5 rows × 78 columns</p>\n",
       "</div>"
      ],
      "text/plain": [
       "   Age_17 or younger  Age_18-20  Age_21-25  Age_26-32  Age_33-39  Age_40-49  \\\n",
       "0                  0          0          0          0          0          1   \n",
       "1                  0          0          0          0          0          0   \n",
       "2                  0          0          0          0          0          0   \n",
       "3                  0          0          0          0          0          0   \n",
       "4                  0          0          0          0          0          0   \n",
       "\n",
       "   Age_50-59  Age_60-64  Age_65 or older  Gender_Female  ...  \\\n",
       "0          0          0                0              1  ...   \n",
       "1          0          1                0              0  ...   \n",
       "2          1          0                0              0  ...   \n",
       "3          1          0                0              1  ...   \n",
       "4          0          1                0              0  ...   \n",
       "\n",
       "   Would you recommend our events to other people?_Somewhat Unlikely  \\\n",
       "0                                                  1                   \n",
       "1                                                  0                   \n",
       "2                                                  0                   \n",
       "3                                                  0                   \n",
       "4                                                  0                   \n",
       "\n",
       "   Would you recommend our events to other people?_Very Likely  \\\n",
       "0                                                  0             \n",
       "1                                                  0             \n",
       "2                                                  0             \n",
       "3                                                  0             \n",
       "4                                                  0             \n",
       "\n",
       "   Would you recommend our events to other people?_Very Unlikely  \\\n",
       "0                                                  0               \n",
       "1                                                  0               \n",
       "2                                                  0               \n",
       "3                                                  0               \n",
       "4                                                  1               \n",
       "\n",
       "   Did you find our events value for money?_Entirely agree  \\\n",
       "0                                                  0         \n",
       "1                                                  0         \n",
       "2                                                  0         \n",
       "3                                                  0         \n",
       "4                                                  1         \n",
       "\n",
       "   Did you find our events value for money?_Entirely disagree  \\\n",
       "0                                                  0            \n",
       "1                                                  1            \n",
       "2                                                  1            \n",
       "3                                                  0            \n",
       "4                                                  0            \n",
       "\n",
       "   Did you find our events value for money?_Mostly agree  \\\n",
       "0                                                  0       \n",
       "1                                                  0       \n",
       "2                                                  0       \n",
       "3                                                  0       \n",
       "4                                                  0       \n",
       "\n",
       "   Did you find our events value for money?_Mostly disagree  \\\n",
       "0                                                  0          \n",
       "1                                                  0          \n",
       "2                                                  0          \n",
       "3                                                  0          \n",
       "4                                                  0          \n",
       "\n",
       "   Did you find our events value for money?_Neither agree nor disagree  \\\n",
       "0                                                  0                     \n",
       "1                                                  0                     \n",
       "2                                                  0                     \n",
       "3                                                  0                     \n",
       "4                                                  0                     \n",
       "\n",
       "   Did you find our events value for money?_Somewhat agree  \\\n",
       "0                                                  0         \n",
       "1                                                  0         \n",
       "2                                                  0         \n",
       "3                                                  0         \n",
       "4                                                  0         \n",
       "\n",
       "   Did you find our events value for money?_Somewhat disagree  \n",
       "0                                                  1           \n",
       "1                                                  0           \n",
       "2                                                  0           \n",
       "3                                                  1           \n",
       "4                                                  0           \n",
       "\n",
       "[5 rows x 78 columns]"
      ]
     },
     "execution_count": 19,
     "metadata": {},
     "output_type": "execute_result"
    }
   ],
   "source": [
    "new_events = pd.get_dummies(data, columns = features)\n",
    "new_events.head()"
   ]
  },
  {
   "cell_type": "code",
   "execution_count": 20,
   "id": "e48f32dc",
   "metadata": {},
   "outputs": [
    {
     "data": {
      "text/plain": [
       "(14778, 78)"
      ]
     },
     "execution_count": 20,
     "metadata": {},
     "output_type": "execute_result"
    }
   ],
   "source": [
    "new_events.shape"
   ]
  },
  {
   "cell_type": "markdown",
   "id": "3993de1c",
   "metadata": {},
   "source": [
    "## K-means Clustering"
   ]
  },
  {
   "cell_type": "code",
   "execution_count": 112,
   "id": "52bab147",
   "metadata": {},
   "outputs": [
    {
     "name": "stdout",
     "output_type": "stream",
     "text": [
      "The clusters are:  [0 0 0 ... 0 2 0]\n",
      "The Inertia is:  96115.92240466225\n"
     ]
    }
   ],
   "source": [
    "# running the kmeans algorithm, with 4 clusters\n",
    "X_train = new_events.values\n",
    "X = X_train\n",
    "kmeans = KMeans(n_clusters=4,random_state=540)\n",
    "kmeans = kmeans.fit(X)\n",
    "print(\"The clusters are: \", kmeans.labels_)\n",
    "print(\"The Inertia is: \", kmeans.inertia_)"
   ]
  },
  {
   "cell_type": "code",
   "execution_count": 113,
   "id": "215037bb",
   "metadata": {},
   "outputs": [
    {
     "data": {
      "text/plain": [
       "array([0, 0, 0, ..., 0, 2, 0])"
      ]
     },
     "execution_count": 113,
     "metadata": {},
     "output_type": "execute_result"
    }
   ],
   "source": [
    "y_pred = kmeans.predict(X_train)\n",
    "y_pred"
   ]
  },
  {
   "cell_type": "code",
   "execution_count": 114,
   "id": "e85f09e1",
   "metadata": {},
   "outputs": [
    {
     "data": {
      "text/plain": [
       "False"
      ]
     },
     "execution_count": 114,
     "metadata": {},
     "output_type": "execute_result"
    }
   ],
   "source": [
    "y_pred is kmeans.labels_"
   ]
  },
  {
   "cell_type": "code",
   "execution_count": 99,
   "id": "d7b5e29e",
   "metadata": {},
   "outputs": [
    {
     "data": {
      "text/plain": [
       "0.550345107592367"
      ]
     },
     "execution_count": 99,
     "metadata": {},
     "output_type": "execute_result"
    }
   ],
   "source": [
    "accuracy_score(kmeans.labels_,y_pred)"
   ]
  },
  {
   "cell_type": "markdown",
   "id": "fcab4fe9",
   "metadata": {},
   "source": [
    "### Inertia & Elbow Method"
   ]
  },
  {
   "cell_type": "code",
   "execution_count": 76,
   "id": "b30591d4",
   "metadata": {},
   "outputs": [
    {
     "name": "stdout",
     "output_type": "stream",
     "text": [
      "The inertia for : 2 Clusters is: 113828.57838092856\n",
      "The inertia for : 3 Clusters is: 104222.03360127324\n",
      "The inertia for : 4 Clusters is: 96115.91925373183\n",
      "The inertia for : 5 Clusters is: 91847.21521307991\n",
      "The inertia for : 6 Clusters is: 86396.15714976969\n",
      "The inertia for : 7 Clusters is: 83787.2156323967\n",
      "The inertia for : 8 Clusters is: 81661.14169400133\n",
      "The inertia for : 9 Clusters is: 79768.68068015312\n",
      "The inertia for : 10 Clusters is: 78686.05226887837\n",
      "The inertia for : 11 Clusters is: 77556.14184178617\n",
      "The inertia for : 12 Clusters is: 76747.55911963753\n",
      "The inertia for : 13 Clusters is: 75983.86303293546\n",
      "The inertia for : 14 Clusters is: 75107.29955742133\n"
     ]
    }
   ],
   "source": [
    "# Inertia is a metric that shows how internally coherent clusters are.\n",
    "# Finding the right number of k\n",
    "no_of_clusters = range(2,15)\n",
    "inertia = []\n",
    "\n",
    "\n",
    "for f in no_of_clusters:\n",
    "    kmeans = KMeans(n_clusters=f, random_state=2)\n",
    "    kmeans = kmeans.fit(X)\n",
    "    i = kmeans.inertia_\n",
    "    inertia.append(i)\n",
    "    print(\"The inertia for :\", f, \"Clusters is:\", u)"
   ]
  },
  {
   "cell_type": "code",
   "execution_count": 77,
   "id": "a9356a84",
   "metadata": {
    "scrolled": false
   },
   "outputs": [
    {
     "data": {
      "text/plain": [
       "Text(0.5, 1.0, 'Inertia Plot per k')"
      ]
     },
     "execution_count": 77,
     "metadata": {},
     "output_type": "execute_result"
    },
    {
     "data": {
      "image/png": "[encoded data removed]",
      "text/plain": [
       "<Figure size 1152x432 with 1 Axes>"
      ]
     },
     "metadata": {
      "needs_background": "light"
     },
     "output_type": "display_data"
    }
   ],
   "source": [
    "# Creating the scree plot for Intertia - elbow method\n",
    "fig, (ax1) = plt.subplots(1, figsize=(16,6))\n",
    "xe = np.arange(len(no_of_clusters))\n",
    "ax1.plot(xe, inertia)\n",
    "ax1.set_xticks(xe)\n",
    "ax1.set_xticklabels(no_of_clusters, rotation='vertical')\n",
    "plt.xlabel('Number of clusters')\n",
    "plt.ylabel('Inertia Score')\n",
    "plt.title(\"Inertia Plot per k\")"
   ]
  },
  {
   "cell_type": "code",
   "execution_count": 106,
   "id": "5be2d229",
   "metadata": {},
   "outputs": [
    {
     "data": {
      "text/html": [
       "<div>\n",
       "<style scoped>\n",
       "    .dataframe tbody tr th:only-of-type {\n",
       "        vertical-align: middle;\n",
       "    }\n",
       "\n",
       "    .dataframe tbody tr th {\n",
       "        vertical-align: top;\n",
       "    }\n",
       "\n",
       "    .dataframe thead th {\n",
       "        text-align: right;\n",
       "    }\n",
       "</style>\n",
       "<table border=\"1\" class=\"dataframe\">\n",
       "  <thead>\n",
       "    <tr style=\"text-align: right;\">\n",
       "      <th></th>\n",
       "      <th>Cluster 0</th>\n",
       "      <th>Cluster 1</th>\n",
       "      <th>Cluster 2</th>\n",
       "      <th>Cluster 3</th>\n",
       "      <th>Cluster 4</th>\n",
       "    </tr>\n",
       "  </thead>\n",
       "  <tbody>\n",
       "    <tr>\n",
       "      <th>0</th>\n",
       "      <td>4082</td>\n",
       "      <td>1226</td>\n",
       "      <td>4419</td>\n",
       "      <td>2837</td>\n",
       "      <td>2214</td>\n",
       "    </tr>\n",
       "  </tbody>\n",
       "</table>\n",
       "</div>"
      ],
      "text/plain": [
       "   Cluster 0  Cluster 1  Cluster 2  Cluster 3  Cluster 4\n",
       "0       4082       1226       4419       2837       2214"
      ]
     },
     "execution_count": 106,
     "metadata": {},
     "output_type": "execute_result"
    }
   ],
   "source": [
    "# Running K means on 6 clusters\n",
    "\n",
    "kmeans = KMeans(n_clusters=5, random_state=2)\n",
    "kmeans = kmeans.fit(X_train)\n",
    "\n",
    "\n",
    "kmeans.labels_\n",
    "\n",
    "# \"predictions\" for new data\n",
    "predictions = kmeans.predict(X_train)\n",
    "\n",
    "# calculating the Counts of the cluster\n",
    "unique, counts = np.unique(predictions, return_counts=True)\n",
    "counts = counts.reshape(1,5)\n",
    "\n",
    "# Creating a datagrame\n",
    "countcls = pd.DataFrame(counts, columns = [\"Cluster 0\",\"Cluster 1\",\"Cluster 2\", \"Cluster 3\",\"Cluster 4\"])\n",
    "\n",
    "# display\n",
    "countcls"
   ]
  },
  {
   "cell_type": "code",
   "execution_count": 107,
   "id": "85491b49",
   "metadata": {},
   "outputs": [
    {
     "data": {
      "text/plain": [
       "array([2, 0, 0, ..., 2, 4, 0])"
      ]
     },
     "execution_count": 107,
     "metadata": {},
     "output_type": "execute_result"
    }
   ],
   "source": [
    "kmeans.labels_"
   ]
  },
  {
   "cell_type": "code",
   "execution_count": 108,
   "id": "b5c7eb97",
   "metadata": {
    "scrolled": true
   },
   "outputs": [
    {
     "data": {
      "text/plain": [
       "array([2, 0, 0, ..., 2, 4, 0])"
      ]
     },
     "execution_count": 108,
     "metadata": {},
     "output_type": "execute_result"
    }
   ],
   "source": [
    "predictions"
   ]
  },
  {
   "cell_type": "code",
   "execution_count": 109,
   "id": "23a390e7",
   "metadata": {},
   "outputs": [
    {
     "data": {
      "text/plain": [
       "(14778, 78)"
      ]
     },
     "execution_count": 109,
     "metadata": {},
     "output_type": "execute_result"
    }
   ],
   "source": [
    "new_events.shape"
   ]
  },
  {
   "cell_type": "code",
   "execution_count": 110,
   "id": "d330dbb5",
   "metadata": {},
   "outputs": [
    {
     "data": {
      "image/png": "[encoded data removed]",
      "text/plain": [
       "<Figure size 432x288 with 2 Axes>"
      ]
     },
     "metadata": {
      "needs_background": "light"
     },
     "output_type": "display_data"
    }
   ],
   "source": [
    "cm = confusion_matrix(kmeans.labels_, predictions)\n",
    "ax = sns.heatmap(cm, annot=True, fmt=\"d\", cmap=\"Blues\")"
   ]
  },
  {
   "cell_type": "code",
   "execution_count": 111,
   "id": "cee6b7f9",
   "metadata": {},
   "outputs": [
    {
     "data": {
      "text/plain": [
       "1.0"
      ]
     },
     "execution_count": 111,
     "metadata": {},
     "output_type": "execute_result"
    }
   ],
   "source": [
    "accuracy_score(kmeans.labels_,predictions)"
   ]
  },
  {
   "cell_type": "markdown",
   "id": "346e3478",
   "metadata": {},
   "source": [
    "## Visualization of K-Means"
   ]
  },
  {
   "cell_type": "code",
   "execution_count": 32,
   "id": "8a11c805",
   "metadata": {},
   "outputs": [
    {
     "name": "stdout",
     "output_type": "stream",
     "text": [
      "Explained variance ratio (first two components): [0.17726435 0.07805254]\n"
     ]
    },
    {
     "data": {
      "text/plain": [
       "<Figure size 432x288 with 0 Axes>"
      ]
     },
     "metadata": {},
     "output_type": "display_data"
    },
    {
     "data": {
      "image/png": "[encoded data removed]",
      "text/plain": [
       "<Figure size 864x576 with 1 Axes>"
      ]
     },
     "metadata": {
      "needs_background": "light"
     },
     "output_type": "display_data"
    }
   ],
   "source": [
    "# Running PCA(Principal component analysis) to Visualize the data\n",
    "\n",
    "from sklearn.decomposition import PCA\n",
    "from sklearn.discriminant_analysis import LinearDiscriminantAnalysis\n",
    "\n",
    "y_num = predictions\n",
    "\n",
    "target_names = [\"Cluster 0\",\"Cluster 1\",\"Cluster 2\", \"Cluster 3\",\"Cluster 4\"]\n",
    "\n",
    "pca = PCA(n_components=2, random_state = 453)\n",
    "X_r = pca.fit(X).transform(X)\n",
    "\n",
    "\n",
    "print('Explained variance ratio (first two components): %s' % str(pca.explained_variance_ratio_))\n",
    "\n",
    "# Plotting the data\n",
    "plt.figure()\n",
    "plt.figure(figsize=(12,8))\n",
    "colors = ['violet', 'turquoise', 'darkgreen', 'red', 'grey']\n",
    "lw = 2\n",
    "\n",
    "\n",
    "for color, i, target_name in zip(colors, [0, 1, 2, 3, 4], target_names):\n",
    "    plt.scatter(X_r[y_num == i, 0], X_r[y_num == i, 1], color=color, alpha=.8, lw=lw,label=target_name)\n",
    "    \n",
    "plt.legend(loc='best', shadow=False, scatterpoints=1)\n",
    "plt.legend(bbox_to_anchor=(1.05, 1), loc=2, borderaxespad=0.6)   \n",
    "plt.title('PCA of 2 Items')\n",
    "plt.show()"
   ]
  },
  {
   "cell_type": "markdown",
   "id": "3773efa8",
   "metadata": {},
   "source": [
    "## Hierarchical Clustering"
   ]
  },
  {
   "cell_type": "code",
   "execution_count": 35,
   "id": "6d578002",
   "metadata": {},
   "outputs": [],
   "source": [
    "X = new_events.values"
   ]
  },
  {
   "cell_type": "code",
   "execution_count": 36,
   "id": "095f00fe",
   "metadata": {},
   "outputs": [],
   "source": [
    "#Hierarchichal Clustering, is a method of cluster analysis which seeks to build a hierarchy of clusters\n",
    "hc = AgglomerativeClustering(n_clusters = 4, affinity = 'euclidean', linkage = 'ward')"
   ]
  },
  {
   "cell_type": "code",
   "execution_count": 37,
   "id": "78fd25de",
   "metadata": {},
   "outputs": [
    {
     "data": {
      "image/png": "[encoded data removed]",
      "text/plain": [
       "<Figure size 432x288 with 1 Axes>"
      ]
     },
     "metadata": {
      "needs_background": "light"
     },
     "output_type": "display_data"
    }
   ],
   "source": [
    "hc.fit(X)\n",
    "dendro = sch.dendrogram(sch.linkage(X,method = \"ward\", metric = \"euclidean\"))"
   ]
  },
  {
   "cell_type": "code",
   "execution_count": 38,
   "id": "54c8fdb1",
   "metadata": {
    "scrolled": true
   },
   "outputs": [
    {
     "data": {
      "text/plain": [
       "array([1, 1, 1, ..., 1, 2, 1], dtype=int64)"
      ]
     },
     "execution_count": 38,
     "metadata": {},
     "output_type": "execute_result"
    }
   ],
   "source": [
    "hclabel = hc.labels_\n",
    "hclabel"
   ]
  },
  {
   "cell_type": "code",
   "execution_count": 39,
   "id": "0cf6727a",
   "metadata": {},
   "outputs": [
    {
     "data": {
      "text/plain": [
       "0.14499575479633375"
      ]
     },
     "execution_count": 39,
     "metadata": {},
     "output_type": "execute_result"
    }
   ],
   "source": [
    "#silhouette score is a metric used to calculate the goodness of a clustering technique(Min=-1, Max =+1)\n",
    "silhouette_score(X,hclabel)"
   ]
  }
 ],
 "metadata": {
  "kernelspec": {
   "display_name": "Python 3",
   "language": "python",
   "name": "python3"
  },
  "language_info": {
   "codemirror_mode": {
    "name": "ipython",
    "version": 3
   },
   "file_extension": ".py",
   "mimetype": "text/x-python",
   "name": "python",
   "nbconvert_exporter": "python",
   "pygments_lexer": "ipython3",
   "version": "3.8.8"
  }
 },
 "nbformat": 4,
 "nbformat_minor": 5
}
